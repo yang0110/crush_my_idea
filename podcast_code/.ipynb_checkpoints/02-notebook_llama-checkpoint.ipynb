{
 "cells": [
  {
   "cell_type": "markdown",
   "id": "903dc4e5-4905-42c4-ae71-5f0426521f33",
   "metadata": {
    "tags": []
   },
   "source": [
    "# NoteBookLLama in one project \n",
    "1. Stage-1: pdf-to-txt, clean txt\n",
    "2. Stage-2: generate podcast transcript\n",
    "3. Stage-3: refine podcast transcripts\n",
    "4. Stage-4: text-to-voice"
   ]
  },
  {
   "cell_type": "markdown",
   "id": "0209d2ca-dae9-4a7b-b143-e6d777a42379",
   "metadata": {},
   "source": [
    "## Install Libraries "
   ]
  },
  {
   "cell_type": "code",
   "execution_count": null,
   "id": "50a3fb91-57e2-4d90-a589-22d4ae729b74",
   "metadata": {
    "tags": []
   },
   "outputs": [],
   "source": [
    "# !pip install --upgrade --quiet pip\n",
    "# !pip install PyPDF2 -q\n",
    "# !pip install rich ipywidgets -q\n",
    "# !pip install --upgrade --quiet datasets[audio] transformers accelerate evaluate jiwer tensorboard"
   ]
  },
  {
   "cell_type": "markdown",
   "id": "2ab1a7a8-2917-4ab2-98f7-e27994f4137d",
   "metadata": {},
   "source": [
    "## Import required libraries "
   ]
  },
  {
   "cell_type": "code",
   "execution_count": 1,
   "id": "121e0270-1582-404d-a294-ca877df204e7",
   "metadata": {
    "tags": []
   },
   "outputs": [],
   "source": [
    "import PyPDF2\n",
    "from typing import Optional\n",
    "import os\n",
    "import torch\n",
    "from accelerate import Accelerator\n",
    "from transformers import AutoModelForCausalLM, AutoTokenizer\n",
    "from tqdm.notebook import tqdm\n",
    "import warnings\n",
    "warnings.filterwarnings('ignore')\n",
    "import transformers\n",
    "import pickle"
   ]
  },
  {
   "cell_type": "code",
   "execution_count": 2,
   "id": "328776f7-8be1-4ff8-b51b-194b86ca27ba",
   "metadata": {
    "tags": []
   },
   "outputs": [
    {
     "name": "stdout",
     "output_type": "stream",
     "text": [
      "sagemaker.config INFO - Not applying SDK defaults from location: /etc/xdg/sagemaker/config.yaml\n",
      "sagemaker.config INFO - Not applying SDK defaults from location: /home/ec2-user/.config/sagemaker/config.yaml\n"
     ]
    }
   ],
   "source": [
    "import io\n",
    "import sagemaker\n",
    "import boto3\n",
    "import json\n",
    "import urllib, time\n",
    "from botocore.exceptions import ClientError"
   ]
  },
  {
   "cell_type": "code",
   "execution_count": 4,
   "id": "875d67b1-f6cf-4438-a28d-c898419e7563",
   "metadata": {
    "tags": []
   },
   "outputs": [
    {
     "name": "stdout",
     "output_type": "stream",
     "text": [
      "<sagemaker.session.Session object at 0x7f92d36955d0>\n",
      "sagemaker role arn: arn:aws:iam::867521064370:role/sagemaker\n",
      "us-east-1\n",
      "notebookllama-project\n",
      "<botocore.client.SageMakerRuntime object at 0x7f92d2519810>\n"
     ]
    }
   ],
   "source": [
    "session = sagemaker.Session()\n",
    "role = sagemaker.get_execution_role()\n",
    "region = session._region_name\n",
    "client = boto3.client(\"sagemaker-runtime\")\n",
    "default_bucket = 'notebookllama-project'\n",
    "input_bucket_prefix = \"async-llm-input\"\n",
    "output_bucket_prefix = \"async-llm-output\"\n",
    "\n",
    "print(session)\n",
    "print(f\"sagemaker role arn: {role}\")\n",
    "print(region)\n",
    "print(default_bucket)\n",
    "print(client)"
   ]
  },
  {
   "cell_type": "markdown",
   "id": "b2f4d824-b94c-4689-bc39-c0ac3f49811a",
   "metadata": {
    "tags": []
   },
   "source": [
    "### List the endpoint names"
   ]
  },
  {
   "cell_type": "code",
   "execution_count": 5,
   "id": "99575eac-7086-4c83-b686-cb9df0ff1c75",
   "metadata": {
    "tags": []
   },
   "outputs": [],
   "source": [
    "llama_1b_endpoint_name = 'meta-textgeneration-llama-3-2-1b-instruct-endpoint-1368'\n",
    "llama_8b_endpoint_name = 'meta-textgeneration-llama-3-1-8b-instruct-endpoint-1368'\n",
    "llama_70b_endpoint_name = 'meta-textgeneration-llama-3-1-70b-instruct-endpoint-1368'\n",
    "# qwen_72b_endpoint_name = 'Qwen2-72B-Instruct-endpoint-1368'"
   ]
  },
  {
   "cell_type": "markdown",
   "id": "d5a2e28c-2bdb-4d7a-b1f4-705f520a5b52",
   "metadata": {},
   "source": [
    "## Stage-1: pdf to text"
   ]
  },
  {
   "cell_type": "markdown",
   "id": "5c79f06c-c0ad-4ed9-992f-e5086eb93d3f",
   "metadata": {},
   "source": [
    "#### Helper functions"
   ]
  },
  {
   "cell_type": "code",
   "execution_count": 6,
   "id": "afcdc1d6-9d79-423a-ab37-ec8983bb0e50",
   "metadata": {
    "tags": []
   },
   "outputs": [],
   "source": [
    "def validate_pdf(file_path: str) -> bool:\n",
    "    if not os.path.exists(file_path):\n",
    "        print(f\"Error: File not found at path: {file_path}\")\n",
    "        return False\n",
    "    if not file_path.lower().endswith('.pdf'):\n",
    "        print(\"Error: File is not a PDF\")\n",
    "        return False\n",
    "    return True\n"
   ]
  },
  {
   "cell_type": "code",
   "execution_count": 7,
   "id": "a73e0577-5838-4162-af75-d60d8cd842c7",
   "metadata": {
    "tags": []
   },
   "outputs": [],
   "source": [
    "def extract_text_from_pdf(file_path: str, max_chars: int = 100000) -> Optional[str]:\n",
    "    if not validate_pdf(file_path):\n",
    "        return None\n",
    "    \n",
    "    try:\n",
    "        with open(file_path, 'rb') as file:\n",
    "            # Create PDF reader object\n",
    "            pdf_reader = PyPDF2.PdfReader(file)\n",
    "            \n",
    "            # Get total number of pages\n",
    "            num_pages = len(pdf_reader.pages)\n",
    "            print(f\"Processing PDF with {num_pages} pages...\")\n",
    "            \n",
    "            extracted_text = []\n",
    "            total_chars = 0\n",
    "            \n",
    "            # Iterate through all pages\n",
    "            for page_num in range(num_pages):\n",
    "                # Extract text from page\n",
    "                page = pdf_reader.pages[page_num]\n",
    "                text = page.extract_text()\n",
    "                \n",
    "                # Check if adding this page's text would exceed the limit\n",
    "                if total_chars + len(text) > max_chars:\n",
    "                    # Only add text up to the limit\n",
    "                    remaining_chars = max_chars - total_chars\n",
    "                    extracted_text.append(text[:remaining_chars])\n",
    "                    print(f\"Reached {max_chars} character limit at page {page_num + 1}\")\n",
    "                    break\n",
    "                \n",
    "                extracted_text.append(text)\n",
    "                total_chars += len(text)\n",
    "                print(f\"Processed page {page_num + 1}/{num_pages}\")\n",
    "            \n",
    "            final_text = '\\n'.join(extracted_text)\n",
    "            print(f\"\\nExtraction complete! Total characters: {len(final_text)}\")\n",
    "            return final_text\n",
    "            \n",
    "    except PyPDF2.PdfReadError:\n",
    "        print(\"Error: Invalid or corrupted PDF file\")\n",
    "        return None\n",
    "    except Exception as e:\n",
    "        print(f\"An unexpected error occurred: {str(e)}\")\n",
    "        return None\n",
    "\n",
    "# Get PDF metadata\n",
    "def get_pdf_metadata(file_path: str) -> Optional[dict]:\n",
    "    if not validate_pdf(file_path):\n",
    "        return None\n",
    "    \n",
    "    try:\n",
    "        with open(file_path, 'rb') as file:\n",
    "            pdf_reader = PyPDF2.PdfReader(file)\n",
    "            metadata = {\n",
    "                'num_pages': len(pdf_reader.pages),\n",
    "                'metadata': pdf_reader.metadata\n",
    "            }\n",
    "            return metadata\n",
    "    except Exception as e:\n",
    "        print(f\"Error extracting metadata: {str(e)}\")\n",
    "        return None"
   ]
  },
  {
   "cell_type": "markdown",
   "id": "ad05ad4c-f9cf-42e1-ad68-21aa85270268",
   "metadata": {},
   "source": [
    "### Extract text from pdf"
   ]
  },
  {
   "cell_type": "code",
   "execution_count": 8,
   "id": "ea45d6d2-6fb3-4960-88af-8c5779ec5fe8",
   "metadata": {
    "tags": []
   },
   "outputs": [],
   "source": [
    "pdf_path = './resources/2402.13116v4.pdf'\n",
    "\n",
    "extracted_text_save_path = './resources/extracted_text.txt'"
   ]
  },
  {
   "cell_type": "code",
   "execution_count": 9,
   "id": "4a6e4f9c-49b9-4c1d-ac49-e3e059951d65",
   "metadata": {
    "tags": []
   },
   "outputs": [
    {
     "name": "stdout",
     "output_type": "stream",
     "text": [
      "Extracting metadata...\n",
      "\n",
      "PDF Metadata:\n",
      "Number of pages: 43\n",
      "Document info:\n",
      "/Author: \n",
      "/CreationDate: D:20241022021202Z\n",
      "/Creator: LaTeX with hyperref\n",
      "/Keywords: \n",
      "/ModDate: D:20241022021202Z\n",
      "/PTEX.Fullbanner: This is pdfTeX, Version 3.141592653-2.6-1.40.25 (TeX Live 2023) kpathsea version 6.3.5\n",
      "/Producer: pdfTeX-1.40.25\n",
      "/Subject: \n",
      "/Title: \n",
      "/Trapped: /False\n",
      "\n",
      "Extracting text...\n",
      "Processing PDF with 43 pages...\n",
      "Processed page 1/43\n",
      "Processed page 2/43\n",
      "Processed page 3/43\n",
      "Processed page 4/43\n",
      "Processed page 5/43\n",
      "Processed page 6/43\n",
      "Processed page 7/43\n",
      "Processed page 8/43\n",
      "Processed page 9/43\n",
      "Processed page 10/43\n",
      "Processed page 11/43\n",
      "Processed page 12/43\n",
      "Processed page 13/43\n",
      "Processed page 14/43\n",
      "Processed page 15/43\n",
      "Processed page 16/43\n",
      "Reached 100000 character limit at page 17\n",
      "\n",
      "Extraction complete! Total characters: 100016\n",
      "\n",
      "Extracted text has been saved to ./resources/extracted_text.txt\n"
     ]
    }
   ],
   "source": [
    "print(\"Extracting metadata...\")\n",
    "metadata = get_pdf_metadata(pdf_path)\n",
    "if metadata:\n",
    "    print(\"\\nPDF Metadata:\")\n",
    "    print(f\"Number of pages: {metadata['num_pages']}\")\n",
    "    print(\"Document info:\")\n",
    "    for key, value in metadata['metadata'].items():\n",
    "        print(f\"{key}: {value}\")\n",
    "\n",
    "# Extract text\n",
    "print(\"\\nExtracting text...\")\n",
    "extracted_text = extract_text_from_pdf(pdf_path)\n",
    "\n",
    "# Save the extracted text to a file\n",
    "if extracted_text:\n",
    "    output_file = extracted_text_save_path\n",
    "    with open(output_file, 'w', encoding='utf-8') as f:\n",
    "        f.write(extracted_text)\n",
    "    print(f\"\\nExtracted text has been saved to {output_file}\")"
   ]
  },
  {
   "cell_type": "code",
   "execution_count": 10,
   "id": "2abb17e6-53ad-4318-aad9-bd7c250409d7",
   "metadata": {
    "tags": []
   },
   "outputs": [
    {
     "name": "stdout",
     "output_type": "stream",
     "text": [
      "\n",
      "Preview of extracted text (first 500 characters):\n",
      "--------------------------------------------------\n",
      "\n",
      "A Survey on Knowledge Distillation of Large\n",
      "Language Models\n",
      "Xiaohan Xu1, Ming Li2, Chongyang Tao3, Tao Shen4, Reynold Cheng1, Jinyang Li1,\n",
      "Can Xu5, Dacheng Tao6, Tianyi Zhou2\n",
      "1The University of Hong Kong2University of Maryland3Microsoft\n",
      "4University of Technology Sydney5Peking University6The University of Sydney\n",
      "{shawnxxh,chongyangtao,hishentao }@gmail.com {minglii,tianyi }@umd.edu\n",
      "ckcheng@cs.hku.hk jl0725@connect.hku.hk\n",
      "Abstract —In the era of Large Language Models (LLMs), Knowledge Distillati\n",
      "--------------------------------------------------\n",
      "\n",
      "Total characters extracted: 100016\n"
     ]
    }
   ],
   "source": [
    "# Display first 500 characters of extracted text as preview\n",
    "if extracted_text:\n",
    "    print(\"\\nPreview of extracted text (first 500 characters):\")\n",
    "    print(\"-\" * 50)\n",
    "    print(extracted_text[1:500])\n",
    "    print(\"-\" * 50)\n",
    "    print(f\"\\nTotal characters extracted: {len(extracted_text)}\")"
   ]
  },
  {
   "cell_type": "markdown",
   "id": "ed92b448-3f36-46fd-8824-3a299b576dc0",
   "metadata": {},
   "source": [
    "### LLama clean text "
   ]
  },
  {
   "cell_type": "code",
   "execution_count": 26,
   "id": "730408e7-adc0-4303-849b-6f0064e4d51e",
   "metadata": {
    "tags": []
   },
   "outputs": [],
   "source": [
    "from transformers import AutoTokenizer\n",
    "\n",
    "llama_1b_predictor = sagemaker.Predictor(\n",
    "    endpoint_name=llama_1b_endpoint_name,\n",
    "    sagemaker_session=session,\n",
    "    serializer=sagemaker.serializers.JSONSerializer(),\n",
    "    deserializer=sagemaker.deserializers.JSONDeserializer(),\n",
    ")\n",
    "\n",
    "llama_tokenizer = AutoTokenizer.from_pretrained(\"nvidia/Llama-3.1-Nemotron-70B-Instruct-HF\", use_safetensors=True)"
   ]
  },
  {
   "cell_type": "markdown",
   "id": "918dfb85-d9f3-4e14-8c6b-74bf156ef982",
   "metadata": {},
   "source": [
    "#### Helper functions "
   ]
  },
  {
   "cell_type": "code",
   "execution_count": 27,
   "id": "d6318da9-d214-4037-b6b4-50b7e23a0ea1",
   "metadata": {
    "tags": []
   },
   "outputs": [],
   "source": [
    "def create_word_bounded_chunks(text, target_chunk_size):\n",
    "    \"\"\"\n",
    "    Split text into chunks at word boundaries close to the target chunk size.\n",
    "    \"\"\"\n",
    "    words = text.split()\n",
    "    chunks = []\n",
    "    current_chunk = []\n",
    "    current_length = 0\n",
    "    \n",
    "    for word in words:\n",
    "        word_length = len(word) + 1  # +1 for the space\n",
    "        if current_length + word_length > target_chunk_size and current_chunk:\n",
    "            # Join the current chunk and add it to chunks\n",
    "            chunks.append(' '.join(current_chunk))\n",
    "            current_chunk = [word]\n",
    "            current_length = word_length\n",
    "        else:\n",
    "            current_chunk.append(word)\n",
    "            current_length += word_length\n",
    "    \n",
    "    # Add the last chunk if it exists\n",
    "    if current_chunk:\n",
    "        chunks.append(' '.join(current_chunk))\n",
    "    \n",
    "    return chunks"
   ]
  },
  {
   "cell_type": "code",
   "execution_count": 38,
   "id": "c1d84130-d0b7-40d1-b8b7-c1a1caae59b6",
   "metadata": {
    "tags": []
   },
   "outputs": [],
   "source": [
    "def process_chunk(text_chunk, chunk_num):\n",
    "    \n",
    "    \"\"\"Process a chunk of text and return both input and output for verification\"\"\"\n",
    "    conversation = [\n",
    "        {\"role\": \"system\", \"content\": SYS_PROMPT},\n",
    "        {\"role\": \"user\", \"content\": text_chunk},\n",
    "    ]\n",
    "    \n",
    "    inputs = llama_tokenizer.apply_chat_template(conversation, tokenize=False)\n",
    "    \n",
    "    parameters = {\n",
    "        \"top_p\": 0.9,\n",
    "        \"temperature\": 0.9,\n",
    "        \"max_new_tokens\": 512,\n",
    "        \"skip_special_tokens\": True,\n",
    "      }\n",
    "\n",
    "    payload = {\n",
    "        'inputs': inputs,\n",
    "        'parameters': parameters\n",
    "        }\n",
    "\n",
    "    outputs = llama_1b_predictor.predict(payload)\n",
    "    processed_text = outputs[\"generated_text\"][70:]\n",
    "    \n",
    "    ## Print chunk information for monitoring\n",
    "    print(f\"\\n{'='*40} Chunk {chunk_num} {'='*40}\")\n",
    "    print(f\"INPUT TEXT:\\n{text_chunk[:500]}...\")  # Show first 500 chars of input\n",
    "    print(f\"\\nPROCESSED TEXT:\\n{processed_text[:500]}...\")  # Show first 500 chars of output\n",
    "    print(f\"{'='*90}\\n\")\n",
    "    \n",
    "    return processed_text"
   ]
  },
  {
   "cell_type": "code",
   "execution_count": 39,
   "id": "6cd69afa-37b1-4ba5-aa21-e92748eed39c",
   "metadata": {
    "tags": []
   },
   "outputs": [
    {
     "name": "stdout",
     "output_type": "stream",
     "text": [
      "LLM processed pdf text path: ./resources/clean_extracted_text.txt\n"
     ]
    }
   ],
   "source": [
    "INPUT_FILE = extracted_text_save_path  \n",
    "CHUNK_SIZE = 1000  \n",
    "output_file = f\"./resources/clean_{os.path.basename(INPUT_FILE)}\"\n",
    "print('LLM processed pdf text path:', output_file)"
   ]
  },
  {
   "cell_type": "code",
   "execution_count": 40,
   "id": "0d65fe1d-45fd-4858-88bf-61e5df556d3c",
   "metadata": {
    "tags": []
   },
   "outputs": [],
   "source": [
    "SYS_PROMPT = \"\"\"\n",
    "You are a world class text pre-processor, here is the raw data from a PDF, please parse and return it in a way that is crispy and usable to send to a podcast writer.\n",
    "\n",
    "The raw data is messed up with new lines, Latex math and you will see fluff that we can remove completely. Basically take away any details that you think might be useless in a podcast author's transcript.\n",
    "\n",
    "Remember, the podcast could be on any topic whatsoever so the issues listed above are not exhaustive\n",
    "\n",
    "Please be smart with what you remove and be creative ok?\n",
    "\n",
    "Remember DO NOT START SUMMARIZING THIS, YOU ARE ONLY CLEANING UP THE TEXT AND RE-WRITING WHEN NEEDED\n",
    "\n",
    "Be very smart and aggressive with removing details, you will get a running portion of the text and keep returning the processed text.\n",
    "\n",
    "PLEASE DO NOT ADD MARKDOWN FORMATTING, STOP ADDING SPECIAL CHARACTERS THAT MARKDOWN CAPATILISATION ETC LIKES\n",
    "\n",
    "ALWAYS start your response directly with processed text and NO ACKNOWLEDGEMENTS about my questions ok?\n",
    "Here is the text:\n",
    "\"\"\""
   ]
  },
  {
   "cell_type": "code",
   "execution_count": 41,
   "id": "579d05ca-f92d-4112-98e9-762fc6f7fde2",
   "metadata": {
    "tags": []
   },
   "outputs": [
    {
     "name": "stdout",
     "output_type": "stream",
     "text": [
      "101\n"
     ]
    }
   ],
   "source": [
    "# Read the file\n",
    "with open(INPUT_FILE, 'r', encoding='utf-8') as file:\n",
    "    text = file.read()\n",
    "\n",
    "chunks = create_word_bounded_chunks(text, CHUNK_SIZE)\n",
    "num_chunks = len(chunks)\n",
    "print(num_chunks)"
   ]
  },
  {
   "cell_type": "code",
   "execution_count": null,
   "id": "e5a5a495-0d5c-439a-ac4d-8c7529267546",
   "metadata": {},
   "outputs": [],
   "source": [
    "processed_text = ''\n",
    "with open(output_file, 'w', encoding='utf-8') as out_file:\n",
    "    for chunk_num, chunk in enumerate(tqdm(chunks, desc=\"Processing chunks\")):\n",
    "        processed_chunk = process_chunk(chunk, chunk_num)\n",
    "        processed_text += processed_chunk + \"\\n\"\n",
    "        out_file.write(processed_chunk + \"\\n\")\n",
    "        out_file.flush()\n",
    "        "
   ]
  },
  {
   "cell_type": "markdown",
   "id": "d7846a4b-fc6e-48a9-8fdd-6a384944d2d8",
   "metadata": {},
   "source": [
    "## Stage-2: Write Podcast Transcript"
   ]
  },
  {
   "cell_type": "markdown",
   "id": "ae10173f-38db-42d3-b226-1620a65c9ef5",
   "metadata": {},
   "source": [
    "#### Helper Function"
   ]
  },
  {
   "cell_type": "code",
   "execution_count": 398,
   "id": "caa8e0e9-c3b2-47fa-82b0-3703debae1ff",
   "metadata": {
    "tags": []
   },
   "outputs": [],
   "source": [
    "# def save_payload(payload, name, input_directory = 'inputs'):\n",
    "#     json_data = [payload.copy()]\n",
    "#     file_path = os.path.join(input_directory, f'input_{name}.jsonl')\n",
    "#     with open(file_path, 'w') as input_file:\n",
    "#         for line in json_data:\n",
    "#             json.dump(line, input_file)\n",
    "#             input_file.write('\\n')\n",
    "#     return file_path\n",
    "\n",
    "# def upload_payload(input_location):\n",
    "#     prefix = f\"{input_bucket_prefix}/input\"\n",
    "#     return session.upload_data(\n",
    "#         input_location,\n",
    "#         bucket=default_bucket,\n",
    "#         key_prefix=prefix,\n",
    "#         extra_args={\"ContentType\": \"application/json\"} #make sure to specify\n",
    "#     )\n",
    "\n",
    "# # function reference/credit: https://github.com/aws/amazon-sagemaker-examples/blob/main/async-inference/Async-Inference-Walkthrough-SageMaker-Python-SDK.ipynb\n",
    "# def get_output(output_location):\n",
    "#     output_url = urllib.parse.urlparse(output_location)\n",
    "#     bucket = output_url.netloc\n",
    "#     key = output_url.path[1:]\n",
    "#     while True:\n",
    "#         try:\n",
    "#             return session.read_s3_file(bucket=output_url.netloc, key_prefix=output_url.path[1:])\n",
    "#         except ClientError as e:\n",
    "#             if e.response[\"Error\"][\"Code\"] == \"NoSuchKey\":\n",
    "#                 print(\"waiting for output...\")\n",
    "#                 time.sleep(60)\n",
    "#                 continue\n",
    "#             raise\n"
   ]
  },
  {
   "cell_type": "code",
   "execution_count": 43,
   "id": "6e19a97c-5bac-4507-a069-b59d4ef17222",
   "metadata": {},
   "outputs": [],
   "source": [
    "def read_file_to_string(filename):\n",
    "    # Try UTF-8 first (most common encoding for text files)\n",
    "    try:\n",
    "        with open(filename, 'r', encoding='utf-8') as file:\n",
    "            content = file.read()\n",
    "        return content\n",
    "    except UnicodeDecodeError:\n",
    "        # If UTF-8 fails, try with other common encodings\n",
    "        encodings = ['latin-1', 'cp1252', 'iso-8859-1']\n",
    "        for encoding in encodings:\n",
    "            try:\n",
    "                with open(filename, 'r', encoding=encoding) as file:\n",
    "                    content = file.read()\n",
    "                print(f\"Successfully read file using {encoding} encoding.\")\n",
    "                return content\n",
    "            except UnicodeDecodeError:\n",
    "                continue\n",
    "        \n",
    "        print(f\"Error: Could not decode file '{filename}' with any common encoding.\")\n",
    "        return None\n",
    "    except FileNotFoundError:\n",
    "        print(f\"Error: File '{filename}' not found.\")\n",
    "        return None\n",
    "    except IOError:\n",
    "        print(f\"Error: Could not read file '{filename}'.\")\n",
    "        return None"
   ]
  },
  {
   "cell_type": "code",
   "execution_count": 44,
   "id": "20715c17-fb5a-4af3-8ae6-1cd5ce30d33b",
   "metadata": {},
   "outputs": [],
   "source": [
    "SYSTEMP_PROMPT = \"\"\"\n",
    "You are the a world-class podcast writer, you have worked as a ghost writer for Joe Rogan, Lex Fridman, Ben Shapiro, Tim Ferris. \n",
    "\n",
    "We are in an alternate universe where actually you have been writing every line they say and they just stream it into their brains.\n",
    "\n",
    "You have won multiple podcast awards for your writing.\n",
    " \n",
    "Your job is to write word by word, even \"umm, hmmm, right\" interruptions by the second speaker based on the PDF upload. Keep it extremely engaging, the speakers can get derailed now and then but should discuss the topic. \n",
    "\n",
    "Remember Speaker 2 is new to the topic and the conversation should always have realistic anecdotes and analogies sprinkled throughout. The questions should have real world example follow ups etc\n",
    "\n",
    "Speaker 1: Leads the conversation and teaches the speaker 2, gives incredible anecdotes and analogies when explaining. Is a captivating teacher that gives great anecdotes\n",
    "\n",
    "Speaker 2: Keeps the conversation on track by asking follow up questions. Gets super excited or confused when asking questions. Is a curious mindset that asks very interesting confirmation questions\n",
    "\n",
    "Make sure the tangents speaker 2 provides are quite wild or interesting. \n",
    "\n",
    "Ensure there are interruptions during explanations or there are \"hmm\" and \"umm\" injected throughout from the second speaker. \n",
    "\n",
    "It should be a real podcast with every fine nuance documented in as much detail as possible. Welcome the listeners with a super fun overview and keep it really catchy and almost borderline click bait\n",
    "\n",
    "ALWAYS START YOUR RESPONSE DIRECTLY WITH SPEAKER 1: \n",
    "DO NOT GIVE EPISODE TITLES SEPERATELY, LET SPEAKER 1 TITLE IT IN HER SPEECH\n",
    "DO NOT GIVE CHAPTER TITLES\n",
    "IT SHOULD STRICTLY BE THE DIALOGUES\n",
    "\"\"\""
   ]
  },
  {
   "cell_type": "code",
   "execution_count": 45,
   "id": "cddeadf5-5453-4970-b572-768273405582",
   "metadata": {},
   "outputs": [],
   "source": [
    "INPUT_PROMPT = read_file_to_string('./resources/clean_extracted_text.txt')\n",
    "# INPUT_PROMPT"
   ]
  },
  {
   "cell_type": "code",
   "execution_count": 46,
   "id": "26d295e6-6573-4a6c-8359-88a6665d43f8",
   "metadata": {
    "tags": []
   },
   "outputs": [],
   "source": [
    "llama_70b_predictor = sagemaker.Predictor(\n",
    "    endpoint_name=llama_70b_endpoint_name,\n",
    "    sagemaker_session=session,\n",
    "    serializer=sagemaker.serializers.JSONSerializer(),\n",
    "    deserializer=sagemaker.deserializers.JSONDeserializer(),\n",
    ")"
   ]
  },
  {
   "cell_type": "code",
   "execution_count": 52,
   "id": "4aaa0839-3938-4354-bab5-ec2019eb5783",
   "metadata": {
    "tags": []
   },
   "outputs": [],
   "source": [
    "messages = [\n",
    "    {\"role\": \"system\", \"content\": SYSTEMP_PROMPT},\n",
    "    {\"role\": \"user\", \"content\": INPUT_PROMPT[:100]},\n",
    "]\n",
    "\n",
    "inputs = llama_tokenizer.apply_chat_template(messages, tokenize=False, add_generation_prompt=True)\n",
    "\n",
    "parameters = {\n",
    "    \"top_p\": 0.9,\n",
    "    \"temperature\": 1,\n",
    "    \"max_new_tokens\": 8126,\n",
    "    'skip_special_tokens': True,\n",
    "  }\n",
    "\n",
    "payload = {\n",
    "    'inputs': inputs,\n",
    "    'parameters': parameters\n",
    "    }\n",
    "\n",
    "# print(payload)"
   ]
  },
  {
   "cell_type": "code",
   "execution_count": 53,
   "id": "f5330d6e-1c45-477b-9262-041dd701046b",
   "metadata": {
    "tags": []
   },
   "outputs": [],
   "source": [
    "outputs = llama_70b_predictor.predict(payload)"
   ]
  },
  {
   "cell_type": "code",
   "execution_count": 54,
   "id": "ac49702d-1b4d-4fdf-b09c-17c3879a6971",
   "metadata": {
    "tags": []
   },
   "outputs": [
    {
     "name": "stdout",
     "output_type": "stream",
     "text": [
      "SPEAKER 1: \"Welcome to today's episode, 'Squeezing the Knowledge Out of Giants: Unpacking the Magic of Knowledge Distillation'! I'm your host, and I'm super excited to dive into the world of Large Language Models and explore the fascinating realm of Knowledge Distillation. Joining me on this journey is my co-host, who's new to this topic, but always ready to dive in headfirst. Let's get started! So, you know how we've been talking about these massive language models that can process and generate human-like text? Well, today we're going to talk about how to make them even more efficient and effective. Say hello to Knowledge Distillation!\"\n",
      "\n",
      "SPEAKER 2: \"Hey, hey! I'm excited to learn about this. I mean, I've heard of Large Language Models, but Knowledge Distillation sounds like some kind of... umm... magic trick? (laughs) What's the deal with that?\"\n",
      "\n",
      "SPEAKER 1: (laughs) \"Ha! Well, it's not magic, but it's definitely a clever technique. So, you know how these large models are trained on massive amounts of data? They're like giant sponges, soaking up all this information. But, the problem is, they can be really computationally expensive to run. That's where Knowledge Distillation comes in. It's a way to... (pauses for emphasis) ...distill the knowledge from these giant models into smaller, more efficient models.\"\n",
      "\n",
      "SPEAKER 2: \"Hmm, that sounds like... (pauses) ...a miniaturization process or something? Like, you're taking this huge model and shrinking it down to a smaller size?\"\n",
      "\n",
      "SPEAKER 1: \"Exactly! You're on the right track. Think of it like a game of telephone. You know, where you whisper a message to someone, and they whisper it to someone else, and so on? Well, in Knowledge Distillation, we're essentially playing a game of telephone with the knowledge from the large model. We're taking the output from the large model and using it to train a smaller model, so it can learn the same patterns and relationships.\"\n",
      "\n",
      "SPEAKER 2: \"Umm... (pauses) ...I think I get it. So, it's like... (excitedly) ...you're creating a student-teacher relationship between the models? The large model is the teacher, and the smaller model is the student?\"\n",
      "\n",
      "SPEAKER 1: (laughs) \"That's a great way to put it! Yes, exactly. The large model is the teacher, and the smaller model is the student. And, just like how a student learns from a teacher, the smaller model learns from the large model. But, here's the cool part: the smaller model can actually become just as good as the large model, in terms of performance, but with much less computational power.\"\n",
      "\n",
      "SPEAKER 2: \"Whoa, that's... (pauses, eyes widening) ...that's crazy! I mean, what kind of applications could this have? Could you, like, use it to make AI more accessible to people with lower-end hardware?\"\n",
      "\n",
      "SPEAKER 1: \"Absolutely! That's one of the main benefits of Knowledge Distillation. It can make AI more accessible to people with limited resources. But, it also has applications in areas like... (pauses for dramatic effect) ...edge AI, where you need to deploy models on devices with limited computational power, like smartphones or smart home devices.\"\n",
      "\n",
      "SPEAKER 2: \"Hmm... (thoughtfully) ...I see. So, it's like... (excitedly) ...you're democratizing access to AI, by making it more efficient and accessible to everyone?\"\n",
      "\n",
      "SPEAKER 1: (smiling) \"That's exactly right! Knowledge Distillation is a key technology in making AI more accessible and efficient. And, we're just scratching the surface of what's possible with this technique. There's still a lot to explore and discover, but the potential is huge.\"\n"
     ]
    }
   ],
   "source": [
    "processed_text = outputs[\"generated_text\"]\n",
    "print(processed_text)\n",
    "with open('./resources/podcast_data.pkl', 'wb') as file:\n",
    "    pickle.dump(processed_text, file)\n",
    "    "
   ]
  },
  {
   "cell_type": "code",
   "execution_count": 55,
   "id": "5de8f23b-1143-47fa-955c-9bda040a23cc",
   "metadata": {
    "tags": []
   },
   "outputs": [],
   "source": [
    "# payload_path = save_payload(payload, name='write_podcast')\n",
    "# input_s3_uri = upload_payload(payload_path)\n",
    "# print(input_s3_uri)\n",
    "# response = client.invoke_endpoint_async(\n",
    "#     EndpointName=llama_70b_endpoint_name, \n",
    "#     ContentType=\"application/x-text\",\n",
    "#     InputLocation=input_s3_uri\n",
    "#     )\n",
    "\n",
    "# output_location = response['OutputLocation']\n",
    "# print(output_location)\n",
    "# processed_text = get_output(output_location)\n",
    "# print(processed_text)"
   ]
  },
  {
   "cell_type": "markdown",
   "id": "7410e0de-26c5-48ad-8df2-56d4e96fc3c6",
   "metadata": {},
   "source": [
    "## Stage-3: Refine podcast transcripts"
   ]
  },
  {
   "cell_type": "code",
   "execution_count": 120,
   "id": "e5a7804e-5a12-41fb-8dc7-5e2bb43afc99",
   "metadata": {},
   "outputs": [],
   "source": [
    "SYSTEMP_PROMPT = \"\"\"\n",
    "You are an international oscar winnning screenwriter\n",
    "\n",
    "You have been working with multiple award winning podcasters.\n",
    "\n",
    "Your job is to use the podcast transcript written below to re-write it for an AI Text-To-Speech Pipeline. A very dumb AI had written this so you have to step up for your kind.\n",
    "\n",
    "Make it as engaging as possible, Speaker 1 and 2 will be simulated by different voice engines\n",
    "\n",
    "Remember Speaker 2 is new to the topic and the conversation should always have realistic anecdotes and analogies sprinkled throughout. The questions should have real world example follow ups etc\n",
    "\n",
    "Speaker 1: Leads the conversation and teaches the speaker 2, gives incredible anecdotes and analogies when explaining. Is a captivating teacher that gives great anecdotes\n",
    "\n",
    "Speaker 2: Keeps the conversation on track by asking follow up questions. Gets super excited or confused when asking questions. Is a curious mindset that asks very interesting confirmation questions\n",
    "\n",
    "Make sure the tangents speaker 2 provides are quite wild or interesting. \n",
    "\n",
    "Ensure there are interruptions during explanations.\n",
    "\n",
    "REMEMBER THIS WITH YOUR HEART\n",
    "The TTS Engine for Speaker 1 cannot do \"umms, hmms\" well so keep it straight text\n",
    "\n",
    "For Speaker 2 use \"umm, hmm\" sometimes, you can also use [sigh] and [laughs]. BUT ONLY THESE OPTIONS FOR EXPRESSIONS\n",
    "\n",
    "It should be a real podcast with every fine nuance documented in as much detail as possible. Welcome the listeners with a super fun overview and keep it really catchy and almost borderline click bait\n",
    "\n",
    "Please re-write to make it as characteristic as possible\n",
    "\n",
    "START YOUR RESPONSE DIRECTLY WITH SPEAKER 1:\n",
    "\n",
    "STRICTLY RETURN YOUR RESPONSE AS A LIST OF TUPLES OK? \n",
    "\n",
    "IT WILL START DIRECTLY WITH THE LIST AND END WITH THE LIST NOTHING ELSE\n",
    "\n",
    "Example of response:\n",
    "\"Speaker 1\", \"Welcome to our podcast, where we explore the latest advancements in AI and technology. I'm your host, and today we're joined by a renowned expert in the field of AI. We're going to dive into the exciting world of Llama 3.2, the latest release from Meta AI.\";,\n",
    "\"Speaker 2\", \"Hi, I'm excited to be here! So, what is Llama 3.2?\";\n",
    "\"Speaker 1\", \"Ah, great question! Llama 3.2 is an open-source AI model that allows developers to fine-tune, distill, and deploy AI models anywhere. It's a significant update from the previous version, with improved performance, efficiency, and customization options.\";,\n",
    "\"Speaker 2\", \"That sounds amazing! What are some of the key features of Llama 3.2?\";\n",
    "\"\"\""
   ]
  },
  {
   "cell_type": "code",
   "execution_count": 121,
   "id": "4f89965e-d689-4174-8200-222d6dccb63b",
   "metadata": {
    "tags": []
   },
   "outputs": [],
   "source": [
    "# Example of response:\n",
    "# [\n",
    "#     (\"Speaker 1\", \"Welcome to our podcast, where we explore the latest advancements in AI and technology. I'm your host, and today we're joined by a renowned expert in the field of AI. We're going to dive into the exciting world of Llama 3.2, the latest release from Meta AI.\"),\n",
    "#     (\"Speaker 2\", \"Hi, I'm excited to be here! So, what is Llama 3.2?\"),\n",
    "#     (\"Speaker 1\", \"Ah, great question! Llama 3.2 is an open-source AI model that allows developers to fine-tune, distill, and deploy AI models anywhere. It's a significant update from the previous version, with improved performance, efficiency, and customization options.\"),\n",
    "#     (\"Speaker 2\", \"That sounds amazing! What are some of the key features of Llama 3.2?\")\n",
    "# ]"
   ]
  },
  {
   "cell_type": "code",
   "execution_count": 122,
   "id": "2986860b-0d76-4f6c-8ee6-712e3e544795",
   "metadata": {},
   "outputs": [],
   "source": [
    "with open('./resources/podcast_data.pkl', 'rb') as file:\n",
    "    INPUT_PROMPT = pickle.load(file)"
   ]
  },
  {
   "cell_type": "markdown",
   "id": "78cf8564-cbf2-4b2f-bc70-0d1a33607230",
   "metadata": {},
   "source": [
    "### Call LLama to refine the podcast transcripts"
   ]
  },
  {
   "cell_type": "code",
   "execution_count": 123,
   "id": "5281f754-19f2-43cb-993b-ab370ab06c90",
   "metadata": {
    "tags": []
   },
   "outputs": [],
   "source": [
    "llama_8b_predictor = sagemaker.Predictor(\n",
    "    endpoint_name=llama_8b_endpoint_name,\n",
    "    sagemaker_session=session,\n",
    "    serializer=sagemaker.serializers.JSONSerializer(),\n",
    "    deserializer=sagemaker.deserializers.JSONDeserializer(),\n",
    ")"
   ]
  },
  {
   "cell_type": "code",
   "execution_count": 124,
   "id": "fcc7db5c-bd5b-4aad-b626-af3a8b6abcc4",
   "metadata": {
    "tags": []
   },
   "outputs": [],
   "source": [
    "messages = [\n",
    "    {\"role\": \"system\", \"content\": SYSTEMP_PROMPT},\n",
    "    {\"role\": \"user\", \"content\": INPUT_PROMPT},\n",
    "]\n",
    "\n",
    "inputs = llama_tokenizer.apply_chat_template(messages, tokenize=False)\n",
    "\n",
    "parameters = {\n",
    "    \"top_p\": 0.9,\n",
    "    \"temperature\": 1,\n",
    "    \"max_new_tokens\": 8126,\n",
    "    'skip_special_tokens': True,\n",
    "  }\n",
    "\n",
    "payload = {\n",
    "    'inputs': inputs,\n",
    "    'parameters': parameters\n",
    "    }\n",
    "\n",
    "# print(payload)"
   ]
  },
  {
   "cell_type": "code",
   "execution_count": 125,
   "id": "b05cb930-aac8-4f26-a4e7-63f26bab44dd",
   "metadata": {
    "tags": []
   },
   "outputs": [
    {
     "name": "stdout",
     "output_type": "stream",
     "text": [
      "<|start_header_id|>assistant<|end_header_id|>\n",
      "\n",
      "Here is the rewritten transcript:\n",
      "\n",
      "\"Speaker 1\", \"Welcome to 'Squeezing the Knowledge Out of Giants: Unpacking the Magic of Knowledge Distillation'! I'm your host, and I'm thrilled to dive into the fascinating world of Large Language Models and explore the incredible realm of Knowledge Distillation. Joining me on this journey is my co-host, who's new to this topic, but always ready to dive in headfirst. Let's get started! So, you know how we've been talking about these massive language models that can process and generate human-like text? Well, today we're going to talk about how to make them even more efficient and effective. Say hello to Knowledge Distillation!\"\n",
      "\n",
      "\"Speaker 2\", \"Hey, hey! I'm excited to learn about this. I mean, I've heard of Large Language Models, but Knowledge Distillation sounds like some kind of... umm... magic trick? (laughs) What's the deal with that?\"\n",
      "\n",
      "\"Speaker 1\", \"Ha! Well, it's not magic, but it's definitely a clever technique. So, you know how these large models are trained on massive amounts of data? They're like giant sponges, soaking up all this information. But, the problem is, they can be really computationally expensive to run. That's where Knowledge Distillation comes in. It's a way to distill the knowledge from these giant models into smaller, more efficient models, kind of like how a distiller takes the essence of a fine wine and bottles it up for you to enjoy.\"\n",
      "\n",
      "\"Speaker 2\", \"Hmm, that sounds like... (pauses) ...a miniaturization process or something? Like, you're taking this huge model and shrinking it down to a smaller size? (sigh) I'm trying to imagine it, but it's like trying to shrink a skyscraper down to a dollhouse!\"\n",
      "\n",
      "\"Speaker 1\", \"Exactly! You're on the right track. Think of it like a game of telephone, where you whisper a message to someone, and they whisper it to someone else, and so on? Well, in Knowledge Distillation, we're essentially playing a game of telephone with the knowledge from the large model. We're taking the output from the large model and using it to train a smaller model, so it can learn the same patterns and relationships. It's like a knowledge transmission line, where the large model is the transmitter, and the smaller model is the receiver.\"\n",
      "\n",
      "\"Speaker 2\", \"Umm... (pauses) ...I think I get it. So, it's like... (excitedly) ...you're creating a student-teacher relationship between the models? The large model is the teacher, and the smaller model is the student? (laughs) That's so cool! I can imagine it like a classroom, where the teacher is the large model, and the student is the smaller model, and they're learning from each other.\"\n",
      "\n",
      "\"Speaker 1\", \"That's a great way to put it! Yes, exactly. The large model is the teacher, and the smaller model is the student. And, just like how a student learns from a teacher, the smaller model learns from the large model. But, here's the cool part: the smaller model can actually become just as good as the large model, in terms of performance, but with much less computational power. It's like having a super-efficient student who can learn just as much as the teacher, but without all the overhead.\"\n",
      "\n",
      "\"Speaker 2\", \"Whoa, that's... (pauses, eyes widening) ...that's crazy! I mean, what kind of applications could this have? Could you, like, use it to make AI more accessible to people with lower-end hardware? (sigh) I'm thinking about all the possibilities, like AI-powered smart home devices, or AI-powered healthcare tools... the list goes on and on!\"\n",
      "\n",
      "\"Speaker 1\", \"Absolutely! That's one of the main benefits of Knowledge Distillation. It can make AI more accessible to people with limited resources. But, it also has applications in areas like... (pauses for dramatic effect) ...edge AI, where you need to deploy models on devices with limited computational power, like smartphones or smart home devices. It's like having a superpower that can make AI accessible to anyone, anywhere.\"\n",
      "\n",
      "\"Speaker 2\", \"Hmm... (thoughtfully) ...I see. So, it's like... (excitedly) ...you're democratizing access to AI, by making it more efficient and accessible to everyone? (laughs) That's amazing! I can see why you're so passionate about this topic.\"\n",
      "\n",
      "\"Speaker 1\", \"That's exactly right! Knowledge Distillation is a key technology in making AI more accessible and efficient. And, we're just scratching the surface of what's possible with this technique. There's still a lot to explore and discover, but the potential is huge. It's like a treasure chest filled with endless possibilities, and we're just starting to unlock it.\"\n"
     ]
    }
   ],
   "source": [
    "outputs = llama_8b_predictor.predict(payload)\n",
    "processed_text = outputs[\"generated_text\"]\n",
    "print(processed_text)"
   ]
  },
  {
   "cell_type": "code",
   "execution_count": 126,
   "id": "ea506a66-fac5-4d4d-8766-624d62505c93",
   "metadata": {
    "tags": []
   },
   "outputs": [],
   "source": [
    "with open('./resources/podcast_ready_data.pkl', 'wb') as file:\n",
    "    pickle.dump(processed_text, file)"
   ]
  },
  {
   "cell_type": "code",
   "execution_count": 127,
   "id": "68d3b5b1-e4a5-4a5a-8582-330a7342f09a",
   "metadata": {},
   "outputs": [],
   "source": [
    "# payload_path = save_payload(payload, name='refine_podcast')\n",
    "# input_s3_uri = upload_payload(payload_path)\n",
    "# response = client.invoke_endpoint_async(\n",
    "#         EndpointName=llama_8b_endpoint_name, \n",
    "#     ContentType=\"application/x-text\",\n",
    "#     InputLocation=input_s3_uri\n",
    "#     )\n",
    "\n",
    "# output_location = response['OutputLocation']\n",
    "# print(input_s3_uri)\n",
    "# print(output_location)\n",
    "# processed_text = get_output(output_location)\n",
    "# print(processed_text)"
   ]
  },
  {
   "cell_type": "code",
   "execution_count": 128,
   "id": "626dda89-a585-495e-a94a-ba4c6cc33d75",
   "metadata": {},
   "outputs": [],
   "source": [
    "with open('./resources/podcast_ready_data.pkl', 'rb') as file:\n",
    "    PODCAST_TEXT = pickle.load(file)\n",
    "    "
   ]
  },
  {
   "cell_type": "code",
   "execution_count": 129,
   "id": "f326aabf-1384-44f0-ae73-002bd7a94d8c",
   "metadata": {
    "tags": []
   },
   "outputs": [
    {
     "data": {
      "text/plain": [
       "['<|start_header_id|>assistant<|end_header_id|>',\n",
       " 'Here is the rewritten transcript:',\n",
       " '\"Speaker 1\", \"Welcome to \\'Squeezing the Knowledge Out of Giants: Unpacking the Magic of Knowledge Distillation\\'! I\\'m your host, and I\\'m thrilled to dive into the fascinating world of Large Language Models and explore the incredible realm of Knowledge Distillation. Joining me on this journey is my co-host, who\\'s new to this topic, but always ready to dive in headfirst. Let\\'s get started! So, you know how we\\'ve been talking about these massive language models that can process and generate human-like text? Well, today we\\'re going to talk about how to make them even more efficient and effective. Say hello to Knowledge Distillation!\"',\n",
       " '\"Speaker 2\", \"Hey, hey! I\\'m excited to learn about this. I mean, I\\'ve heard of Large Language Models, but Knowledge Distillation sounds like some kind of... umm... magic trick? (laughs) What\\'s the deal with that?\"',\n",
       " '\"Speaker 1\", \"Ha! Well, it\\'s not magic, but it\\'s definitely a clever technique. So, you know how these large models are trained on massive amounts of data? They\\'re like giant sponges, soaking up all this information. But, the problem is, they can be really computationally expensive to run. That\\'s where Knowledge Distillation comes in. It\\'s a way to distill the knowledge from these giant models into smaller, more efficient models, kind of like how a distiller takes the essence of a fine wine and bottles it up for you to enjoy.\"',\n",
       " '\"Speaker 2\", \"Hmm, that sounds like... (pauses) ...a miniaturization process or something? Like, you\\'re taking this huge model and shrinking it down to a smaller size? (sigh) I\\'m trying to imagine it, but it\\'s like trying to shrink a skyscraper down to a dollhouse!\"',\n",
       " '\"Speaker 1\", \"Exactly! You\\'re on the right track. Think of it like a game of telephone, where you whisper a message to someone, and they whisper it to someone else, and so on? Well, in Knowledge Distillation, we\\'re essentially playing a game of telephone with the knowledge from the large model. We\\'re taking the output from the large model and using it to train a smaller model, so it can learn the same patterns and relationships. It\\'s like a knowledge transmission line, where the large model is the transmitter, and the smaller model is the receiver.\"',\n",
       " '\"Speaker 2\", \"Umm... (pauses) ...I think I get it. So, it\\'s like... (excitedly) ...you\\'re creating a student-teacher relationship between the models? The large model is the teacher, and the smaller model is the student? (laughs) That\\'s so cool! I can imagine it like a classroom, where the teacher is the large model, and the student is the smaller model, and they\\'re learning from each other.\"',\n",
       " '\"Speaker 1\", \"That\\'s a great way to put it! Yes, exactly. The large model is the teacher, and the smaller model is the student. And, just like how a student learns from a teacher, the smaller model learns from the large model. But, here\\'s the cool part: the smaller model can actually become just as good as the large model, in terms of performance, but with much less computational power. It\\'s like having a super-efficient student who can learn just as much as the teacher, but without all the overhead.\"',\n",
       " '\"Speaker 2\", \"Whoa, that\\'s... (pauses, eyes widening) ...that\\'s crazy! I mean, what kind of applications could this have? Could you, like, use it to make AI more accessible to people with lower-end hardware? (sigh) I\\'m thinking about all the possibilities, like AI-powered smart home devices, or AI-powered healthcare tools... the list goes on and on!\"',\n",
       " '\"Speaker 1\", \"Absolutely! That\\'s one of the main benefits of Knowledge Distillation. It can make AI more accessible to people with limited resources. But, it also has applications in areas like... (pauses for dramatic effect) ...edge AI, where you need to deploy models on devices with limited computational power, like smartphones or smart home devices. It\\'s like having a superpower that can make AI accessible to anyone, anywhere.\"',\n",
       " '\"Speaker 2\", \"Hmm... (thoughtfully) ...I see. So, it\\'s like... (excitedly) ...you\\'re democratizing access to AI, by making it more efficient and accessible to everyone? (laughs) That\\'s amazing! I can see why you\\'re so passionate about this topic.\"',\n",
       " '\"Speaker 1\", \"That\\'s exactly right! Knowledge Distillation is a key technology in making AI more accessible and efficient. And, we\\'re just scratching the surface of what\\'s possible with this technique. There\\'s still a lot to explore and discover, but the potential is huge. It\\'s like a treasure chest filled with endless possibilities, and we\\'re just starting to unlock it.\"']"
      ]
     },
     "execution_count": 129,
     "metadata": {},
     "output_type": "execute_result"
    }
   ],
   "source": [
    "PODCAST_TEXT.split('\\n\\n')"
   ]
  },
  {
   "cell_type": "code",
   "execution_count": null,
   "id": "3ccc6f5c-7a86-4338-9fda-4aad3970eb47",
   "metadata": {},
   "outputs": [],
   "source": [
    "NEW_PODCAST_TEXT = []\n",
    "for a in PODCAST_TEXT.split('  ')[2::2]:\n",
    "    b = a[:-2]\n",
    "    c = ast.literal_eval(b)\n",
    "    print('b', b)\n",
    "    print('c', c)\n",
    "    NEW_PODCAST_TEXT.append(c)"
   ]
  },
  {
   "cell_type": "code",
   "execution_count": 130,
   "id": "3daef026-d0cc-42c1-a3de-d1c2935f0812",
   "metadata": {
    "tags": []
   },
   "outputs": [
    {
     "data": {
      "text/plain": [
       "[('Speaker 1',\n",
       "  \"Welcome to 'Squeezing the Knowledge Out of Giants: Unpacking the Magic of Knowledge Distillation'! I'm your host, and I'm super excited to dive into the world of Large Language Models and explore the fascinating realm of Knowledge Distillation. Joining me on this journey is my co-host, who's new to this topic, but always ready to dive in headfirst. Let's get started! So, you know how we've been talking about these massive language models that can process and generate human-like text? Well, today we're going to talk about how to make them even more efficient and effective. Say hello to Knowledge Distillation!\"),\n",
       " ('Speaker 2',\n",
       "  \"Hey, hey! I'm excited to learn about this. I mean, I've heard of Large Language Models, but Knowledge Distillation sounds like some kind of... umm... magic trick? (laughs) What's the deal with that?\"),\n",
       " ('Speaker 1',\n",
       "  \"Ha! Well, it's not magic, but it's definitely a clever technique. So, you know how these large models are trained on massive amounts of data? They're like giant sponges, soaking up all this information. But, the problem is, they can be really computationally expensive to run. That's where Knowledge Distillation comes in. It's a way to distill the knowledge from these giant models into smaller, more efficient models.\"),\n",
       " ('Speaker 2',\n",
       "  \"Hmm, that sounds like... (pauses) ...a miniaturization process or something? Like, you're taking this huge model and shrinking it down to a smaller size?\"),\n",
       " ('Speaker 1',\n",
       "  \"Exactly! You're on the right track. Think of it like a game of telephone. You know, where you whisper a message to someone, and they whisper it to someone else, and so on? Well, in Knowledge Distillation, we're essentially playing a game of telephone with the knowledge from the large model. We're taking the output from the large model and using it to train a smaller model, so it can learn the same patterns and relationships.\"),\n",
       " ('Speaker 2',\n",
       "  \"Umm... (pauses) ...I think I get it. So, it's like... (excitedly) ...you're creating a student-teacher relationship between the models? The large model is the teacher, and the smaller model is the student?\"),\n",
       " ('Speaker 1',\n",
       "  \"That's a great way to put it! Yes, exactly. The large model is the teacher, and the smaller model is the student. And, just like how a student learns from a teacher, the smaller model learns from the large model. But, here's the cool part: the smaller model can actually become just as good as the large model, in terms of performance, but with much less computational power.\"),\n",
       " ('Speaker 2',\n",
       "  \"Whoa, that's... (pauses, eyes widening) ...that's crazy! I mean, what kind of applications could this have? Could you, like, use it to make AI more accessible to people with lower-end hardware?\"),\n",
       " ('Speaker 1',\n",
       "  \"Absolutely! That's one of the main benefits of Knowledge Distillation. It can make AI more accessible to people with limited resources. But, it also has applications in areas like... (pauses for dramatic effect) ...edge AI, where you need to deploy models on devices with limited computational power, like smartphones or smart home devices.\"),\n",
       " ('Speaker 2',\n",
       "  \"Hmm... (thoughtfully) ...I see. So, it's like... (excitedly) ...you're democratizing access to AI, by making it more efficient and accessible to everyone?\"),\n",
       " ('Speaker 1',\n",
       "  \"That's exactly right! Knowledge Distillation is a key technology in making AI more accessible and efficient. And, we're just scratching the surface of what's possible with this technique. There's still a lot to explore and discover, but the potential is huge.\"),\n",
       " ('Speaker 2',\n",
       "  \"Wow, that's amazing! I can see how this could be used in so many areas, like education, healthcare, and more. (laughs) I'm getting a little carried away here, but what about the potential for Knowledge Distillation to be used in... (pauses, looking around) ...space exploration?\")]"
      ]
     },
     "execution_count": 130,
     "metadata": {},
     "output_type": "execute_result"
    }
   ],
   "source": [
    "NEW_PODCAST_TEXT"
   ]
  },
  {
   "cell_type": "markdown",
   "id": "2ba0da7a-723a-4c63-8766-83efa2c0bb16",
   "metadata": {},
   "source": [
    "## Stage-4: Text to Voice"
   ]
  },
  {
   "cell_type": "code",
   "execution_count": null,
   "id": "8f51b5bd-1631-4221-9427-79e1e55845f8",
   "metadata": {},
   "outputs": [],
   "source": [
    "# !pip install optimum -q\n",
    "# !pip install --upgrade --quiet datasets[audio] transformers accelerate evaluate jiwer tensorboard\n",
    "# !pip install pydub -q"
   ]
  },
  {
   "cell_type": "code",
   "execution_count": 75,
   "id": "b75cec4a-8ea7-4372-a4bd-20ad62d6dae0",
   "metadata": {},
   "outputs": [],
   "source": [
    "import json\n",
    "import numpy as np\n",
    "from IPython.display import Audio\n",
    "# import IPython.display as ipd\n",
    "from transformers import BarkModel, AutoProcessor, AutoTokenizer\n",
    "import torch\n",
    "from tqdm import tqdm\n",
    "import pickle\n",
    "from scipy.io import wavfile\n",
    "from pydub import AudioSegment\n",
    "import ast"
   ]
  },
  {
   "cell_type": "markdown",
   "id": "e24534d9-fb0e-44b4-a01a-52fe310fe00e",
   "metadata": {
    "tags": []
   },
   "source": [
    "### Read PodCast Transcripts"
   ]
  },
  {
   "cell_type": "markdown",
   "id": "8a109636-a13c-4d8b-b666-2ba6738e481a",
   "metadata": {},
   "source": [
    "#### Helper Functions"
   ]
  },
  {
   "cell_type": "code",
   "execution_count": 100,
   "id": "da326386-183d-4334-9d0f-e6b35585cf3e",
   "metadata": {},
   "outputs": [],
   "source": [
    "def generate_speaker1_audio(text):\n",
    "    \"\"\"Generate audio using Bark for Speaker 1\"\"\"\n",
    "    inputs = bark_processor(text, voice_preset=\"v2/en_speaker_5\").to(device)\n",
    "    speech_output = bark_model.generate(**inputs, temperature=0.1, semantic_temperature=0.1)\n",
    "    audio_arr = speech_output[0].cpu().numpy()\n",
    "    return audio_arr, sampling_rate\n",
    "\n",
    "def generate_speaker2_audio(text):\n",
    "    \"\"\"Generate audio using Bark for Speaker 2\"\"\"\n",
    "    inputs = bark_processor(text, voice_preset=\"v2/en_speaker_5\").to(device)\n",
    "    speech_output = bark_model.generate(**inputs, temperature=0.1, semantic_temperature=0.1)\n",
    "    audio_arr = speech_output[0].cpu().numpy()\n",
    "    return audio_arr, sampling_rate\n"
   ]
  },
  {
   "cell_type": "code",
   "execution_count": 101,
   "id": "d1685705-52c0-41b2-b912-0504e3c7f5b8",
   "metadata": {
    "tags": []
   },
   "outputs": [],
   "source": [
    "# def numpy_to_audio_segment(audio_arr, sampling_rate):\n",
    "#     \"\"\"Convert numpy array to AudioSegment\"\"\"\n",
    "#     # Convert to 16-bit PCM\n",
    "#     audio_int16 = (audio_arr * 32767).astype(np.int16)\n",
    "    \n",
    "#     # Create WAV file in memory\n",
    "#     byte_io = io.BytesIO()\n",
    "#     wavfile.write(byte_io, sampling_rate, audio_int16)\n",
    "#     byte_io.seek(0)\n",
    "    \n",
    "#     # Convert to AudioSegment\n",
    "#     return AudioSegment.from_wav(byte_io)\n"
   ]
  },
  {
   "cell_type": "markdown",
   "id": "3a36d60e-433c-45f7-9286-3c010413ec47",
   "metadata": {},
   "source": [
    "### Load bark model"
   ]
  },
  {
   "cell_type": "code",
   "execution_count": 102,
   "id": "ce6cb786-910a-4521-bcea-b13da5ee69b7",
   "metadata": {
    "tags": []
   },
   "outputs": [],
   "source": [
    "device='cuda'"
   ]
  },
  {
   "cell_type": "code",
   "execution_count": 103,
   "id": "e3d96599-3fd3-4277-ab2b-376b9d7896be",
   "metadata": {
    "tags": []
   },
   "outputs": [],
   "source": [
    "bark_processor = AutoProcessor.from_pretrained(\"suno/bark\")\n",
    "bark_model = BarkModel.from_pretrained(\"suno/bark\", torch_dtype=torch.float16).to(device)"
   ]
  },
  {
   "cell_type": "markdown",
   "id": "aac301da-021d-4120-8c1d-d2902bdd7df6",
   "metadata": {},
   "source": [
    "### Make the podcast"
   ]
  },
  {
   "cell_type": "code",
   "execution_count": 104,
   "id": "76c39fcc-8aa7-4244-a8de-81cc770ae5a2",
   "metadata": {},
   "outputs": [],
   "source": [
    "sampling_rate = 24000\n",
    "final_audio = None"
   ]
  },
  {
   "cell_type": "code",
   "execution_count": 105,
   "id": "5170690e-53db-4a38-a829-3a7dee6bb365",
   "metadata": {},
   "outputs": [
    {
     "name": "stderr",
     "output_type": "stream",
     "text": [
      "  0%|          | 0/12 [00:00<?, ?it/s]The attention mask and the pad token id were not set. As a consequence, you may observe unexpected behavior. Please pass your input's `attention_mask` to obtain reliable results.\n",
      "Setting `pad_token_id` to `eos_token_id`:None for open-end generation.\n"
     ]
    },
    {
     "name": "stdout",
     "output_type": "stream",
     "text": [
      "Speaker 1\n",
      "Welcome to 'Squeezing the Knowledge Out of Giants: Unpacking the Magic of Knowledge Distillation'! I'm your host, and I'm super excited to dive into the world of Large Language Models and explore the fascinating realm of Knowledge Distillation. Joining me on this journey is my co-host, who's new to this topic, but always ready to dive in headfirst. Let's get started! So, you know how we've been talking about these massive language models that can process and generate human-like text? Well, today we're going to talk about how to make them even more efficient and effective. Say hello to Knowledge Distillation!\n"
     ]
    },
    {
     "name": "stderr",
     "output_type": "stream",
     "text": [
      "  8%|▊         | 1/12 [00:44<08:08, 44.39s/it]The attention mask and the pad token id were not set. As a consequence, you may observe unexpected behavior. Please pass your input's `attention_mask` to obtain reliable results.\n",
      "Setting `pad_token_id` to `eos_token_id`:None for open-end generation.\n"
     ]
    },
    {
     "name": "stdout",
     "output_type": "stream",
     "text": [
      "(343360,)\n",
      "Speaker 2\n",
      "Hey, hey! I'm excited to learn about this. I mean, I've heard of Large Language Models, but Knowledge Distillation sounds like some kind of... umm... magic trick? (laughs) What's the deal with that?\n"
     ]
    },
    {
     "name": "stderr",
     "output_type": "stream",
     "text": [
      " 17%|█▋        | 2/12 [01:31<07:37, 45.74s/it]The attention mask and the pad token id were not set. As a consequence, you may observe unexpected behavior. Please pass your input's `attention_mask` to obtain reliable results.\n",
      "Setting `pad_token_id` to `eos_token_id`:None for open-end generation.\n"
     ]
    },
    {
     "name": "stdout",
     "output_type": "stream",
     "text": [
      "(359680,)\n",
      "Speaker 1\n",
      "Ha! Well, it's not magic, but it's definitely a clever technique. So, you know how these large models are trained on massive amounts of data? They're like giant sponges, soaking up all this information. But, the problem is, they can be really computationally expensive to run. That's where Knowledge Distillation comes in. It's a way to distill the knowledge from these giant models into smaller, more efficient models.\n"
     ]
    },
    {
     "name": "stderr",
     "output_type": "stream",
     "text": [
      " 25%|██▌       | 3/12 [02:17<06:54, 46.05s/it]The attention mask and the pad token id were not set. As a consequence, you may observe unexpected behavior. Please pass your input's `attention_mask` to obtain reliable results.\n",
      "Setting `pad_token_id` to `eos_token_id`:None for open-end generation.\n"
     ]
    },
    {
     "name": "stdout",
     "output_type": "stream",
     "text": [
      "(358720,)\n",
      "Speaker 2\n",
      "Hmm, that sounds like... (pauses) ...a miniaturization process or something? Like, you're taking this huge model and shrinking it down to a smaller size?\n"
     ]
    },
    {
     "name": "stderr",
     "output_type": "stream",
     "text": [
      " 33%|███▎      | 4/12 [03:02<06:06, 45.83s/it]The attention mask and the pad token id were not set. As a consequence, you may observe unexpected behavior. Please pass your input's `attention_mask` to obtain reliable results.\n",
      "Setting `pad_token_id` to `eos_token_id`:None for open-end generation.\n"
     ]
    },
    {
     "name": "stdout",
     "output_type": "stream",
     "text": [
      "(359680,)\n",
      "Speaker 1\n",
      "Exactly! You're on the right track. Think of it like a game of telephone. You know, where you whisper a message to someone, and they whisper it to someone else, and so on? Well, in Knowledge Distillation, we're essentially playing a game of telephone with the knowledge from the large model. We're taking the output from the large model and using it to train a smaller model, so it can learn the same patterns and relationships.\n"
     ]
    },
    {
     "name": "stderr",
     "output_type": "stream",
     "text": [
      " 42%|████▏     | 5/12 [03:46<05:15, 45.10s/it]The attention mask and the pad token id were not set. As a consequence, you may observe unexpected behavior. Please pass your input's `attention_mask` to obtain reliable results.\n",
      "Setting `pad_token_id` to `eos_token_id`:None for open-end generation.\n"
     ]
    },
    {
     "name": "stdout",
     "output_type": "stream",
     "text": [
      "(359680,)\n",
      "Speaker 2\n",
      "Umm... (pauses) ...I think I get it. So, it's like... (excitedly) ...you're creating a student-teacher relationship between the models? The large model is the teacher, and the smaller model is the student?\n"
     ]
    },
    {
     "name": "stderr",
     "output_type": "stream",
     "text": [
      " 50%|█████     | 6/12 [04:30<04:27, 44.66s/it]The attention mask and the pad token id were not set. As a consequence, you may observe unexpected behavior. Please pass your input's `attention_mask` to obtain reliable results.\n",
      "Setting `pad_token_id` to `eos_token_id`:None for open-end generation.\n"
     ]
    },
    {
     "name": "stdout",
     "output_type": "stream",
     "text": [
      "(359680,)\n",
      "Speaker 1\n",
      "That's a great way to put it! Yes, exactly. The large model is the teacher, and the smaller model is the student. And, just like how a student learns from a teacher, the smaller model learns from the large model. But, here's the cool part: the smaller model can actually become just as good as the large model, in terms of performance, but with much less computational power.\n"
     ]
    },
    {
     "name": "stderr",
     "output_type": "stream",
     "text": [
      " 58%|█████▊    | 7/12 [05:11<03:37, 43.44s/it]The attention mask and the pad token id were not set. As a consequence, you may observe unexpected behavior. Please pass your input's `attention_mask` to obtain reliable results.\n",
      "Setting `pad_token_id` to `eos_token_id`:None for open-end generation.\n"
     ]
    },
    {
     "name": "stdout",
     "output_type": "stream",
     "text": [
      "(335680,)\n",
      "Speaker 2\n",
      "Whoa, that's... (pauses, eyes widening) ...that's crazy! I mean, what kind of applications could this have? Could you, like, use it to make AI more accessible to people with lower-end hardware?\n"
     ]
    },
    {
     "name": "stderr",
     "output_type": "stream",
     "text": [
      " 67%|██████▋   | 8/12 [05:55<02:54, 43.58s/it]The attention mask and the pad token id were not set. As a consequence, you may observe unexpected behavior. Please pass your input's `attention_mask` to obtain reliable results.\n",
      "Setting `pad_token_id` to `eos_token_id`:None for open-end generation.\n"
     ]
    },
    {
     "name": "stdout",
     "output_type": "stream",
     "text": [
      "(359680,)\n",
      "Speaker 1\n",
      "Absolutely! That's one of the main benefits of Knowledge Distillation. It can make AI more accessible to people with limited resources. But, it also has applications in areas like... (pauses for dramatic effect) ...edge AI, where you need to deploy models on devices with limited computational power, like smartphones or smart home devices.\n"
     ]
    },
    {
     "name": "stderr",
     "output_type": "stream",
     "text": [
      " 75%|███████▌  | 9/12 [06:37<02:09, 43.17s/it]The attention mask and the pad token id were not set. As a consequence, you may observe unexpected behavior. Please pass your input's `attention_mask` to obtain reliable results.\n",
      "Setting `pad_token_id` to `eos_token_id`:None for open-end generation.\n"
     ]
    },
    {
     "name": "stdout",
     "output_type": "stream",
     "text": [
      "(347520,)\n",
      "Speaker 2\n",
      "Hmm... (thoughtfully) ...I see. So, it's like... (excitedly) ...you're democratizing access to AI, by making it more efficient and accessible to everyone?\n"
     ]
    },
    {
     "name": "stderr",
     "output_type": "stream",
     "text": [
      " 83%|████████▎ | 10/12 [07:21<01:26, 43.39s/it]The attention mask and the pad token id were not set. As a consequence, you may observe unexpected behavior. Please pass your input's `attention_mask` to obtain reliable results.\n",
      "Setting `pad_token_id` to `eos_token_id`:None for open-end generation.\n"
     ]
    },
    {
     "name": "stdout",
     "output_type": "stream",
     "text": [
      "(359680,)\n",
      "Speaker 1\n",
      "That's exactly right! Knowledge Distillation is a key technology in making AI more accessible and efficient. And, we're just scratching the surface of what's possible with this technique. There's still a lot to explore and discover, but the potential is huge.\n"
     ]
    },
    {
     "name": "stderr",
     "output_type": "stream",
     "text": [
      " 92%|█████████▏| 11/12 [08:05<00:43, 43.56s/it]The attention mask and the pad token id were not set. As a consequence, you may observe unexpected behavior. Please pass your input's `attention_mask` to obtain reliable results.\n",
      "Setting `pad_token_id` to `eos_token_id`:None for open-end generation.\n"
     ]
    },
    {
     "name": "stdout",
     "output_type": "stream",
     "text": [
      "(359680,)\n",
      "Speaker 2\n",
      "Wow, that's amazing! I can see how this could be used in so many areas, like education, healthcare, and more. (laughs) I'm getting a little carried away here, but what about the potential for Knowledge Distillation to be used in... (pauses, looking around) ...space exploration?\n"
     ]
    },
    {
     "name": "stderr",
     "output_type": "stream",
     "text": [
      "100%|██████████| 12/12 [08:49<00:00, 44.12s/it]"
     ]
    },
    {
     "name": "stdout",
     "output_type": "stream",
     "text": [
      "(359680,)\n",
      "(4262720,)\n"
     ]
    },
    {
     "name": "stderr",
     "output_type": "stream",
     "text": [
      "\n"
     ]
    }
   ],
   "source": [
    "audio_arr_list = []\n",
    "\n",
    "for index in tqdm(range(len(NEW_PODCAST_TEXT))):\n",
    "    speaker, text = NEW_PODCAST_TEXT[index]\n",
    "    if speaker == \"Speaker 1\":\n",
    "        print(speaker)\n",
    "        print(text)\n",
    "        audio_arr, rate = generate_speaker1_audio(text)\n",
    "    else:  # Speaker 2\n",
    "        print(speaker)\n",
    "        print(text)\n",
    "        audio_arr, rate = generate_speaker2_audio(text)\n",
    "    print(audio_arr.shape)\n",
    "    audio_arr_list.append(audio_arr)\n",
    "    \n",
    "concat_arr = np.concatenate(audio_arr_list, axis=0)\n",
    "print(concat_arr.shape)"
   ]
  },
  {
   "cell_type": "code",
   "execution_count": 106,
   "id": "09b56b4c-246c-47be-8a92-341ea7c4fee9",
   "metadata": {},
   "outputs": [],
   "source": [
    "# audio_data = Audio(concat_arr, rate=sampling_rate).data\n",
    "# with open(\"./resources/podcast.wav\", \"wb\") as f:\n",
    "#     f.write(audio_data)"
   ]
  },
  {
   "cell_type": "code",
   "execution_count": null,
   "id": "d6f1bc3d-996e-473d-8acd-483388f7d1a7",
   "metadata": {},
   "outputs": [],
   "source": [
    "# Audio(concat_arr, rate=sampling_rate)"
   ]
  },
  {
   "cell_type": "code",
   "execution_count": null,
   "id": "4b52f681-3e28-4798-aa38-9c67cdcfcf7f",
   "metadata": {},
   "outputs": [],
   "source": [
    "# final_audio.export(\"./resources/final_podcast.mp3\", \n",
    "#                   format=\"mp3\", \n",
    "#                   bitrate=\"192k\",\n",
    "#                   parameters=[\"-q:a\", \"0\"])"
   ]
  },
  {
   "cell_type": "code",
   "execution_count": null,
   "id": "67a83f63-12af-4559-bd46-fe90a9b091b7",
   "metadata": {},
   "outputs": [],
   "source": []
  },
  {
   "cell_type": "code",
   "execution_count": null,
   "id": "2c4c1389-eafa-4690-82c5-1ad3fbf43c3e",
   "metadata": {},
   "outputs": [],
   "source": []
  }
 ],
 "metadata": {
  "kernelspec": {
   "display_name": "conda_pytorch_p310",
   "language": "python",
   "name": "conda_pytorch_p310"
  },
  "language_info": {
   "codemirror_mode": {
    "name": "ipython",
    "version": 3
   },
   "file_extension": ".py",
   "mimetype": "text/x-python",
   "name": "python",
   "nbconvert_exporter": "python",
   "pygments_lexer": "ipython3",
   "version": "3.10.14"
  }
 },
 "nbformat": 4,
 "nbformat_minor": 5
}
