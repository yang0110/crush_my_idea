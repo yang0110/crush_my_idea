{
 "cells": [
  {
   "cell_type": "code",
   "execution_count": 1,
   "id": "19ac0728-18d4-4e55-b372-6bf6650d5c50",
   "metadata": {
    "tags": []
   },
   "outputs": [
    {
     "name": "stdout",
     "output_type": "stream",
     "text": [
      "\u001b[31mERROR: pip's dependency resolver does not currently take into account all the packages that are installed. This behaviour is the source of the following dependency conflicts.\n",
      "pathos 0.3.3 requires dill>=0.3.9, but you have dill 0.3.8 which is incompatible.\n",
      "pathos 0.3.3 requires multiprocess>=0.70.17, but you have multiprocess 0.70.16 which is incompatible.\u001b[0m\u001b[31m\n",
      "\u001b[0m"
     ]
    }
   ],
   "source": [
    "# !pip install optimum -q\n",
    "# !pip install --upgrade --quiet datasets[audio] transformers accelerate evaluate jiwer tensorboard\n",
    "# !pip install pydub -q"
   ]
  },
  {
   "cell_type": "code",
   "execution_count": 108,
   "id": "3e057549-f98b-4a03-8a97-d692000eaeea",
   "metadata": {
    "tags": []
   },
   "outputs": [],
   "source": [
    "import json\n",
    "import numpy as np\n",
    "from IPython.display import Audio\n",
    "import IPython.display as ipd\n",
    "from transformers import BarkModel, AutoProcessor, AutoTokenizer\n",
    "import torch\n",
    "from tqdm import tqdm\n",
    "import io\n",
    "import pickle"
   ]
  },
  {
   "cell_type": "code",
   "execution_count": 109,
   "id": "ec8a739b-9d16-49b6-84ab-a7ca93a13f93",
   "metadata": {
    "tags": []
   },
   "outputs": [],
   "source": [
    "device=\"cuda\""
   ]
  },
  {
   "cell_type": "code",
   "execution_count": 110,
   "id": "9e1ecd06-69a8-4f7a-93f9-11ec238b5c9d",
   "metadata": {
    "tags": []
   },
   "outputs": [],
   "source": [
    "def generate_speaker1_audio(text):\n",
    "    \"\"\"Generate audio using Bark for Speaker 1\"\"\"\n",
    "    inputs = bark_processor(text, voice_preset=\"v2/en_speaker_5\").to(device)\n",
    "    speech_output = bark_model.generate(**inputs, temperature=0.5, semantic_temperature=0.8)\n",
    "    audio_arr = speech_output[0].cpu().numpy()\n",
    "    return audio_arr, sampling_rate"
   ]
  },
  {
   "cell_type": "code",
   "execution_count": 111,
   "id": "3d7e8ccd-11fe-48aa-b07b-3d66a333fd04",
   "metadata": {
    "tags": []
   },
   "outputs": [],
   "source": [
    "def generate_speaker2_audio(text):\n",
    "    \"\"\"Generate audio using Bark for Speaker 2\"\"\"\n",
    "    inputs = bark_processor(text, voice_preset=\"v2/en_speaker_6\").to(device)\n",
    "    speech_output = bark_model.generate(**inputs, temperature=0.5, semantic_temperature=0.8)\n",
    "    audio_arr = speech_output[0].cpu().numpy()\n",
    "    return audio_arr, sampling_rate\n"
   ]
  },
  {
   "cell_type": "code",
   "execution_count": 112,
   "id": "83decbb1-b64f-4948-bda1-0095ea85b90e",
   "metadata": {
    "tags": []
   },
   "outputs": [],
   "source": [
    "def numpy_to_audio_segment(audio_arr, sampling_rate):\n",
    "    \"\"\"Convert numpy array to AudioSegment\"\"\"\n",
    "    # Convert to 16-bit PCM\n",
    "    audio_int16 = (audio_arr * 32767).astype(np.int16)\n",
    "    \n",
    "    # Create WAV file in memory\n",
    "    byte_io = io.BytesIO()\n",
    "    wavfile.write(byte_io, sampling_rate, audio_int16)\n",
    "    byte_io.seek(0)\n",
    "    \n",
    "    # Convert to AudioSegment\n",
    "    return AudioSegment.from_wav(byte_io)"
   ]
  },
  {
   "cell_type": "code",
   "execution_count": 113,
   "id": "ebec3a6f-ecb2-4d67-9d38-30f037b530c2",
   "metadata": {
    "tags": []
   },
   "outputs": [
    {
     "name": "stderr",
     "output_type": "stream",
     "text": [
      "/home/ec2-user/anaconda3/envs/pytorch_p310/lib/python3.10/site-packages/transformers/models/encodec/modeling_encodec.py:124: UserWarning: To copy construct from a tensor, it is recommended to use sourceTensor.clone().detach() or sourceTensor.clone().detach().requires_grad_(True), rather than torch.tensor(sourceTensor).\n",
      "  self.register_buffer(\"padding_total\", torch.tensor(kernel_size - stride, dtype=torch.int64), persistent=False)\n"
     ]
    }
   ],
   "source": [
    "bark_processor = AutoProcessor.from_pretrained(\"suno/bark\")\n",
    "bark_model = BarkModel.from_pretrained(\"suno/bark\", torch_dtype=torch.float16).to(device)"
   ]
  },
  {
   "cell_type": "code",
   "execution_count": 114,
   "id": "d7620056-8dca-44b8-a9e5-d0d2827581da",
   "metadata": {
    "tags": []
   },
   "outputs": [],
   "source": [
    "with open('./resources/podcast_ready_data.pkl', 'rb') as file:\n",
    "    PODCAST_TEXT = pickle.load(file)"
   ]
  },
  {
   "cell_type": "code",
   "execution_count": 115,
   "id": "8ac58b2f-222e-4433-98cc-c3a5f30c4112",
   "metadata": {
    "tags": []
   },
   "outputs": [
    {
     "name": "stdout",
     "output_type": "stream",
     "text": [
      "Speaker 1\n",
      "Welcome to 'Mind Blown', the podcast where we explore the fascinating world of artificial intelligence and its impact on our daily lives. I'm your host, and I'm excited to have with me today, a brilliant mind who's new to the world of AI, but eager to learn. Welcome to the show!\n",
      "Speaker 2\n",
      "Thanks for having me! I'm super excited to be here. I have to admit, I'm a total newbie when it comes to AI. I mean, I've heard of it, but I don't really know what it's all about. So, let's dive in!\n",
      "Speaker 1\n",
      "Well, let's start with the basics. Artificial intelligence, or AI for short, refers to the development of computer systems that can perform tasks that typically require human intelligence, such as learning, problem-solving, and decision-making. Think of it like a super-smart robot that can learn from its mistakes and get better over time.\n",
      "Speaker 2\n",
      "Hmm, that sounds like science fiction. I mean, I've seen those movies where robots take over the world... (laughs)\n",
      "Speaker 1\n",
      "Well, we're not quite there yet, but we're getting close. One of the key areas of AI research is machine learning, which involves training algorithms to learn from data and improve their performance over time. It's like teaching a child to ride a bike – you show them how to balance, and with practice, they get better and better.\n",
      "Speaker 2\n",
      "Umm, so like... how does that work? Is it like a robot that gets better at playing chess or something?\n",
      "Speaker 1\n",
      "Exactly! In fact, one of the earliest examples of machine learning was a computer program called Deep Blue, which was designed to play chess against human grandmasters. And in 1997, it defeated the world chess champion, Garry Kasparov. Can you imagine being a chess player and facing a computer that's better than you?\n",
      "Speaker 2\n",
      "Whoa, that's crazy! I had no idea. So, what's the difference between machine learning and, like, regular programming?\n",
      "Speaker 1\n",
      "Ah, great question. With traditional programming, you write a set of rules and instructions that the computer follows. But with machine learning, you're giving the computer a set of data and letting it figure out the rules for itself. It's like giving a detective a set of clues and letting them solve the mystery.\n",
      "Speaker 2\n",
      "Hmm, that makes sense, I think. But what about, like, self-driving cars? How does that work?\n",
      "Speaker 1\n",
      "Ah, great example! Self-driving cars use a combination of machine learning and sensor data to navigate the road. They're trained on vast amounts of data, including images, lidar, and radar, to learn how to recognize objects, predict behavior, and make decisions in real-time. It's like having a personal driving coach that's always learning and improving.\n",
      "Speaker 2\n",
      "Umm, that's wild. I had no idea it was that complex. But what about, like, job displacement? I've heard that AI is going to take over all our jobs.\n",
      "Speaker 1\n",
      "Ah, that's a great question. While it's true that AI will automate some jobs, it will also create new ones. And it's not just about replacing human workers, but augmenting them. For example, AI can help doctors analyze medical images, or assist customer service reps with routine tasks. It's like having a personal assistant that helps you get more done in less time.\n",
      "Speaker 2\n",
      "Hmm, I see what you mean. But what about, like, creativity? Can AI be creative?\n",
      "Speaker 1\n",
      "Ah, that's a great question. While AI can generate some forms of creative content, such as music or art, it's still limited by its programming and data. But, there are some fascinating examples of AI-generated content that are pushing the boundaries of what we thought was possible. Like the AI-generated portrait that sold at Christie's auction house for $432,000. It was created by a French art collective called Obvious, using a type of AI algorithm called a generative adversarial network, or GAN.\n",
      "Speaker 2\n",
      "Whoa, that's insane! I had no idea AI could create art that's worth that much money. [laughs]\n",
      "Speaker 1\n",
      "Yeah, it's a brave new world, indeed. And that's just the beginning. As AI continues to evolve, we can expect to see even more innovative applications across industries.\n",
      "Speaker 2\n",
      "Hmm, I'm excited to see what the future holds. Thanks for explaining all this to me, I feel like I have a much better understanding of AI now.\n",
      "Speaker 1\n",
      "Anytime! It's been a pleasure having you on the show. And to our listeners, thanks for tuning in to this episode of 'Mind Blown'. Join us next time when we'll be exploring the fascinating world of... (pauses for dramatic effect) ...quantum computing!\n",
      "Speaker 2\n",
      "Wow, I'm so excited to learn more about quantum computing. Can we talk about that next time?\n",
      "Speaker 1\n",
      "Absolutely! We'll dive into the world of quantum computing and explore its potential applications. Until next time, thanks for listening to 'Mind Blown'!\n",
      "Speaker 2\n",
      "Thanks for having me on the show!\n",
      "Speaker 1\n",
      "Thanks for tuning in, and we'll see you next time on 'Mind Blown'!\n",
      "Speaker 2\n",
      "Bye!\n",
      "Speaker 1\n",
      "Bye!\n"
     ]
    }
   ],
   "source": [
    "NEW_PODCAST_TEXT = [ast.literal_eval(a[:-2]) for a in PODCAST_TEXT.split('  ')[::2][1:]]\n",
    "for text in NEW_PODCAST_TEXT:\n",
    "    speaker, txt = text\n",
    "    print(speaker)\n",
    "    print(txt)\n",
    "    "
   ]
  },
  {
   "cell_type": "code",
   "execution_count": 116,
   "id": "d017ef01-5472-4958-8a23-df7a192fc850",
   "metadata": {
    "tags": []
   },
   "outputs": [],
   "source": [
    "from scipy.io import wavfile\n",
    "from pydub import AudioSegment"
   ]
  },
  {
   "cell_type": "code",
   "execution_count": 117,
   "id": "3327b8af-8c0d-454d-9d24-631d304065b9",
   "metadata": {
    "tags": []
   },
   "outputs": [],
   "source": [
    "sampling_rate = 24000\n",
    "final_audio = None\n",
    "\n",
    "# for speaker, text in tqdm(NEW_PODCAST_TEXT, desc=\"Generating podcast segments\", unit=\"segment\"):\n",
    "#     print('----')\n",
    "#     if speaker == \"Speaker 1\":\n",
    "#         print(speaker)\n",
    "#         print(text)\n",
    "#         audio_arr, rate = generate_speaker1_audio(text)\n",
    "#     else:  # Speaker 2\n",
    "#         print(speaker)\n",
    "#         print(text)\n",
    "#         audio_arr, rate = generate_speaker2_audio(text)\n",
    "#     print(audio_arr.shape)\n",
    "        \n",
    "#     # Convert to AudioSegment (pydub will handle sample rate conversion automatically)\n",
    "#     audio_segment = numpy_to_audio_segment(audio_arr, rate)\n",
    "    \n",
    "#     # Add to final audio\n",
    "#     if final_audio is None:\n",
    "#         final_audio = audio_segment\n",
    "#     else:\n",
    "#         final_audio += audio_segment"
   ]
  },
  {
   "cell_type": "code",
   "execution_count": 118,
   "id": "e7a9f28d-d77a-4da5-a2f7-63ade3bc9a95",
   "metadata": {
    "tags": []
   },
   "outputs": [
    {
     "name": "stderr",
     "output_type": "stream",
     "text": [
      "  0%|          | 0/25 [00:00<?, ?it/s]The attention mask and the pad token id were not set. As a consequence, you may observe unexpected behavior. Please pass your input's `attention_mask` to obtain reliable results.\n",
      "Setting `pad_token_id` to `eos_token_id`:None for open-end generation.\n"
     ]
    },
    {
     "name": "stdout",
     "output_type": "stream",
     "text": [
      "Speaker 1\n",
      "Welcome to 'Mind Blown', the podcast where we explore the fascinating world of artificial intelligence and its impact on our daily lives. I'm your host, and I'm excited to have with me today, a brilliant mind who's new to the world of AI, but eager to learn. Welcome to the show!\n"
     ]
    },
    {
     "name": "stderr",
     "output_type": "stream",
     "text": [
      "  4%|▍         | 1/25 [00:39<15:36, 39.00s/it]The attention mask and the pad token id were not set. As a consequence, you may observe unexpected behavior. Please pass your input's `attention_mask` to obtain reliable results.\n",
      "Setting `pad_token_id` to `eos_token_id`:None for open-end generation.\n"
     ]
    },
    {
     "name": "stdout",
     "output_type": "stream",
     "text": [
      "(326080,)\n",
      "Speaker 2\n",
      "Thanks for having me! I'm super excited to be here. I have to admit, I'm a total newbie when it comes to AI. I mean, I've heard of it, but I don't really know what it's all about. So, let's dive in!\n"
     ]
    },
    {
     "name": "stderr",
     "output_type": "stream",
     "text": [
      "  8%|▊         | 2/25 [01:21<15:48, 41.25s/it]The attention mask and the pad token id were not set. As a consequence, you may observe unexpected behavior. Please pass your input's `attention_mask` to obtain reliable results.\n",
      "Setting `pad_token_id` to `eos_token_id`:None for open-end generation.\n"
     ]
    },
    {
     "name": "stdout",
     "output_type": "stream",
     "text": [
      "(357760,)\n",
      "Speaker 1\n",
      "Well, let's start with the basics. Artificial intelligence, or AI for short, refers to the development of computer systems that can perform tasks that typically require human intelligence, such as learning, problem-solving, and decision-making. Think of it like a super-smart robot that can learn from its mistakes and get better over time.\n"
     ]
    },
    {
     "name": "stderr",
     "output_type": "stream",
     "text": [
      " 12%|█▏        | 3/25 [02:01<14:55, 40.71s/it]The attention mask and the pad token id were not set. As a consequence, you may observe unexpected behavior. Please pass your input's `attention_mask` to obtain reliable results.\n",
      "Setting `pad_token_id` to `eos_token_id`:None for open-end generation.\n"
     ]
    },
    {
     "name": "stdout",
     "output_type": "stream",
     "text": [
      "(335680,)\n",
      "Speaker 2\n",
      "Hmm, that sounds like science fiction. I mean, I've seen those movies where robots take over the world... (laughs)\n"
     ]
    },
    {
     "name": "stderr",
     "output_type": "stream",
     "text": [
      " 16%|█▌        | 4/25 [02:27<12:06, 34.58s/it]The attention mask and the pad token id were not set. As a consequence, you may observe unexpected behavior. Please pass your input's `attention_mask` to obtain reliable results.\n",
      "Setting `pad_token_id` to `eos_token_id`:None for open-end generation.\n"
     ]
    },
    {
     "name": "stdout",
     "output_type": "stream",
     "text": [
      "(210880,)\n",
      "Speaker 1\n",
      "Well, we're not quite there yet, but we're getting close. One of the key areas of AI research is machine learning, which involves training algorithms to learn from data and improve their performance over time. It's like teaching a child to ride a bike – you show them how to balance, and with practice, they get better and better.\n"
     ]
    },
    {
     "name": "stderr",
     "output_type": "stream",
     "text": [
      " 20%|██        | 5/25 [03:06<12:04, 36.25s/it]The attention mask and the pad token id were not set. As a consequence, you may observe unexpected behavior. Please pass your input's `attention_mask` to obtain reliable results.\n",
      "Setting `pad_token_id` to `eos_token_id`:None for open-end generation.\n"
     ]
    },
    {
     "name": "stdout",
     "output_type": "stream",
     "text": [
      "(328000,)\n",
      "Speaker 2\n",
      "Umm, so like... how does that work? Is it like a robot that gets better at playing chess or something?\n"
     ]
    },
    {
     "name": "stderr",
     "output_type": "stream",
     "text": [
      " 24%|██▍       | 6/25 [03:29<10:02, 31.71s/it]The attention mask and the pad token id were not set. As a consequence, you may observe unexpected behavior. Please pass your input's `attention_mask` to obtain reliable results.\n",
      "Setting `pad_token_id` to `eos_token_id`:None for open-end generation.\n"
     ]
    },
    {
     "name": "stdout",
     "output_type": "stream",
     "text": [
      "(190400,)\n",
      "Speaker 1\n",
      "Exactly! In fact, one of the earliest examples of machine learning was a computer program called Deep Blue, which was designed to play chess against human grandmasters. And in 1997, it defeated the world chess champion, Garry Kasparov. Can you imagine being a chess player and facing a computer that's better than you?\n"
     ]
    },
    {
     "name": "stderr",
     "output_type": "stream",
     "text": [
      " 28%|██▊       | 7/25 [04:10<10:27, 34.84s/it]The attention mask and the pad token id were not set. As a consequence, you may observe unexpected behavior. Please pass your input's `attention_mask` to obtain reliable results.\n",
      "Setting `pad_token_id` to `eos_token_id`:None for open-end generation.\n"
     ]
    },
    {
     "name": "stdout",
     "output_type": "stream",
     "text": [
      "(345600,)\n",
      "Speaker 2\n",
      "Whoa, that's crazy! I had no idea. So, what's the difference between machine learning and, like, regular programming?\n"
     ]
    },
    {
     "name": "stderr",
     "output_type": "stream",
     "text": [
      " 32%|███▏      | 8/25 [04:47<10:05, 35.61s/it]The attention mask and the pad token id were not set. As a consequence, you may observe unexpected behavior. Please pass your input's `attention_mask` to obtain reliable results.\n",
      "Setting `pad_token_id` to `eos_token_id`:None for open-end generation.\n"
     ]
    },
    {
     "name": "stdout",
     "output_type": "stream",
     "text": [
      "(313280,)\n",
      "Speaker 1\n",
      "Ah, great question. With traditional programming, you write a set of rules and instructions that the computer follows. But with machine learning, you're giving the computer a set of data and letting it figure out the rules for itself. It's like giving a detective a set of clues and letting them solve the mystery.\n"
     ]
    },
    {
     "name": "stderr",
     "output_type": "stream",
     "text": [
      " 36%|███▌      | 9/25 [05:27<09:49, 36.86s/it]The attention mask and the pad token id were not set. As a consequence, you may observe unexpected behavior. Please pass your input's `attention_mask` to obtain reliable results.\n",
      "Setting `pad_token_id` to `eos_token_id`:None for open-end generation.\n"
     ]
    },
    {
     "name": "stdout",
     "output_type": "stream",
     "text": [
      "(332160,)\n",
      "Speaker 2\n",
      "Hmm, that makes sense, I think. But what about, like, self-driving cars? How does that work?\n"
     ]
    },
    {
     "name": "stderr",
     "output_type": "stream",
     "text": [
      " 40%|████      | 10/25 [06:07<09:28, 37.93s/it]The attention mask and the pad token id were not set. As a consequence, you may observe unexpected behavior. Please pass your input's `attention_mask` to obtain reliable results.\n",
      "Setting `pad_token_id` to `eos_token_id`:None for open-end generation.\n"
     ]
    },
    {
     "name": "stdout",
     "output_type": "stream",
     "text": [
      "(337920,)\n",
      "Speaker 1\n",
      "Ah, great example! Self-driving cars use a combination of machine learning and sensor data to navigate the road. They're trained on vast amounts of data, including images, lidar, and radar, to learn how to recognize objects, predict behavior, and make decisions in real-time. It's like having a personal driving coach that's always learning and improving.\n"
     ]
    },
    {
     "name": "stderr",
     "output_type": "stream",
     "text": [
      " 44%|████▍     | 11/25 [06:47<08:57, 38.38s/it]The attention mask and the pad token id were not set. As a consequence, you may observe unexpected behavior. Please pass your input's `attention_mask` to obtain reliable results.\n",
      "Setting `pad_token_id` to `eos_token_id`:None for open-end generation.\n"
     ]
    },
    {
     "name": "stdout",
     "output_type": "stream",
     "text": [
      "(330240,)\n",
      "Speaker 2\n",
      "Umm, that's wild. I had no idea it was that complex. But what about, like, job displacement? I've heard that AI is going to take over all our jobs.\n"
     ]
    },
    {
     "name": "stderr",
     "output_type": "stream",
     "text": [
      " 48%|████▊     | 12/25 [07:19<07:54, 36.51s/it]The attention mask and the pad token id were not set. As a consequence, you may observe unexpected behavior. Please pass your input's `attention_mask` to obtain reliable results.\n",
      "Setting `pad_token_id` to `eos_token_id`:None for open-end generation.\n"
     ]
    },
    {
     "name": "stdout",
     "output_type": "stream",
     "text": [
      "(271040,)\n",
      "Speaker 1\n",
      "Ah, that's a great question. While it's true that AI will automate some jobs, it will also create new ones. And it's not just about replacing human workers, but augmenting them. For example, AI can help doctors analyze medical images, or assist customer service reps with routine tasks. It's like having a personal assistant that helps you get more done in less time.\n"
     ]
    },
    {
     "name": "stderr",
     "output_type": "stream",
     "text": [
      " 52%|█████▏    | 13/25 [07:59<07:32, 37.74s/it]The attention mask and the pad token id were not set. As a consequence, you may observe unexpected behavior. Please pass your input's `attention_mask` to obtain reliable results.\n",
      "Setting `pad_token_id` to `eos_token_id`:None for open-end generation.\n"
     ]
    },
    {
     "name": "stdout",
     "output_type": "stream",
     "text": [
      "(339840,)\n",
      "Speaker 2\n",
      "Hmm, I see what you mean. But what about, like, creativity? Can AI be creative?\n"
     ]
    },
    {
     "name": "stderr",
     "output_type": "stream",
     "text": [
      " 56%|█████▌    | 14/25 [08:17<05:49, 31.80s/it]The attention mask and the pad token id were not set. As a consequence, you may observe unexpected behavior. Please pass your input's `attention_mask` to obtain reliable results.\n",
      "Setting `pad_token_id` to `eos_token_id`:None for open-end generation.\n"
     ]
    },
    {
     "name": "stdout",
     "output_type": "stream",
     "text": [
      "(151360,)\n",
      "Speaker 1\n",
      "Ah, that's a great question. While AI can generate some forms of creative content, such as music or art, it's still limited by its programming and data. But, there are some fascinating examples of AI-generated content that are pushing the boundaries of what we thought was possible. Like the AI-generated portrait that sold at Christie's auction house for $432,000. It was created by a French art collective called Obvious, using a type of AI algorithm called a generative adversarial network, or GAN.\n"
     ]
    },
    {
     "name": "stderr",
     "output_type": "stream",
     "text": [
      " 60%|██████    | 15/25 [08:52<05:26, 32.69s/it]The attention mask and the pad token id were not set. As a consequence, you may observe unexpected behavior. Please pass your input's `attention_mask` to obtain reliable results.\n",
      "Setting `pad_token_id` to `eos_token_id`:None for open-end generation.\n"
     ]
    },
    {
     "name": "stdout",
     "output_type": "stream",
     "text": [
      "(292160,)\n",
      "Speaker 2\n",
      "Whoa, that's insane! I had no idea AI could create art that's worth that much money. [laughs]\n"
     ]
    },
    {
     "name": "stderr",
     "output_type": "stream",
     "text": [
      " 64%|██████▍   | 16/25 [09:17<04:32, 30.29s/it]The attention mask and the pad token id were not set. As a consequence, you may observe unexpected behavior. Please pass your input's `attention_mask` to obtain reliable results.\n",
      "Setting `pad_token_id` to `eos_token_id`:None for open-end generation.\n"
     ]
    },
    {
     "name": "stdout",
     "output_type": "stream",
     "text": [
      "(207040,)\n",
      "Speaker 1\n",
      "Yeah, it's a brave new world, indeed. And that's just the beginning. As AI continues to evolve, we can expect to see even more innovative applications across industries.\n"
     ]
    },
    {
     "name": "stderr",
     "output_type": "stream",
     "text": [
      " 68%|██████▊   | 17/25 [09:54<04:18, 32.29s/it]"
     ]
    },
    {
     "name": "stdout",
     "output_type": "stream",
     "text": [
      "(310080,)\n",
      "Speaker 2\n",
      "Hmm, I'm excited to see what the future holds. Thanks for explaining all this to me, I feel like I have a much better understanding of AI now.\n"
     ]
    },
    {
     "name": "stderr",
     "output_type": "stream",
     "text": [
      "The attention mask and the pad token id were not set. As a consequence, you may observe unexpected behavior. Please pass your input's `attention_mask` to obtain reliable results.\n",
      "Setting `pad_token_id` to `eos_token_id`:None for open-end generation.\n",
      " 72%|███████▏  | 18/25 [10:33<04:00, 34.42s/it]The attention mask and the pad token id were not set. As a consequence, you may observe unexpected behavior. Please pass your input's `attention_mask` to obtain reliable results.\n",
      "Setting `pad_token_id` to `eos_token_id`:None for open-end generation.\n"
     ]
    },
    {
     "name": "stdout",
     "output_type": "stream",
     "text": [
      "(323200,)\n",
      "Speaker 1\n",
      "Anytime! It's been a pleasure having you on the show. And to our listeners, thanks for tuning in to this episode of 'Mind Blown'. Join us next time when we'll be exploring the fascinating world of... (pauses for dramatic effect) ...quantum computing!\n"
     ]
    },
    {
     "name": "stderr",
     "output_type": "stream",
     "text": [
      " 76%|███████▌  | 19/25 [11:11<03:32, 35.39s/it]The attention mask and the pad token id were not set. As a consequence, you may observe unexpected behavior. Please pass your input's `attention_mask` to obtain reliable results.\n",
      "Setting `pad_token_id` to `eos_token_id`:None for open-end generation.\n"
     ]
    },
    {
     "name": "stdout",
     "output_type": "stream",
     "text": [
      "(317120,)\n",
      "Speaker 2\n",
      "Wow, I'm so excited to learn more about quantum computing. Can we talk about that next time?\n"
     ]
    },
    {
     "name": "stderr",
     "output_type": "stream",
     "text": [
      " 80%|████████  | 20/25 [11:29<02:30, 30.18s/it]The attention mask and the pad token id were not set. As a consequence, you may observe unexpected behavior. Please pass your input's `attention_mask` to obtain reliable results.\n",
      "Setting `pad_token_id` to `eos_token_id`:None for open-end generation.\n"
     ]
    },
    {
     "name": "stdout",
     "output_type": "stream",
     "text": [
      "(151360,)\n",
      "Speaker 1\n",
      "Absolutely! We'll dive into the world of quantum computing and explore its potential applications. Until next time, thanks for listening to 'Mind Blown'!\n"
     ]
    },
    {
     "name": "stderr",
     "output_type": "stream",
     "text": [
      " 84%|████████▍ | 21/25 [12:01<02:03, 30.75s/it]The attention mask and the pad token id were not set. As a consequence, you may observe unexpected behavior. Please pass your input's `attention_mask` to obtain reliable results.\n",
      "Setting `pad_token_id` to `eos_token_id`:None for open-end generation.\n"
     ]
    },
    {
     "name": "stdout",
     "output_type": "stream",
     "text": [
      "(269760,)\n",
      "Speaker 2\n",
      "Thanks for having me on the show!\n"
     ]
    },
    {
     "name": "stderr",
     "output_type": "stream",
     "text": [
      " 88%|████████▊ | 22/25 [12:10<01:12, 24.09s/it]The attention mask and the pad token id were not set. As a consequence, you may observe unexpected behavior. Please pass your input's `attention_mask` to obtain reliable results.\n",
      "Setting `pad_token_id` to `eos_token_id`:None for open-end generation.\n"
     ]
    },
    {
     "name": "stdout",
     "output_type": "stream",
     "text": [
      "(70400,)\n",
      "Speaker 1\n",
      "Thanks for tuning in, and we'll see you next time on 'Mind Blown'!\n"
     ]
    },
    {
     "name": "stderr",
     "output_type": "stream",
     "text": [
      " 92%|█████████▏| 23/25 [12:21<00:40, 20.33s/it]The attention mask and the pad token id were not set. As a consequence, you may observe unexpected behavior. Please pass your input's `attention_mask` to obtain reliable results.\n",
      "Setting `pad_token_id` to `eos_token_id`:None for open-end generation.\n"
     ]
    },
    {
     "name": "stdout",
     "output_type": "stream",
     "text": [
      "(96000,)\n",
      "Speaker 2\n",
      "Bye!\n"
     ]
    },
    {
     "name": "stderr",
     "output_type": "stream",
     "text": [
      " 96%|█████████▌| 24/25 [12:29<00:16, 16.50s/it]The attention mask and the pad token id were not set. As a consequence, you may observe unexpected behavior. Please pass your input's `attention_mask` to obtain reliable results.\n",
      "Setting `pad_token_id` to `eos_token_id`:None for open-end generation.\n"
     ]
    },
    {
     "name": "stdout",
     "output_type": "stream",
     "text": [
      "(61760,)\n",
      "Speaker 1\n",
      "Bye!\n"
     ]
    },
    {
     "name": "stderr",
     "output_type": "stream",
     "text": [
      "100%|██████████| 25/25 [12:35<00:00, 30.20s/it]"
     ]
    },
    {
     "name": "stdout",
     "output_type": "stream",
     "text": [
      "(48000,)\n",
      "(6317120,)\n"
     ]
    },
    {
     "name": "stderr",
     "output_type": "stream",
     "text": [
      "\n"
     ]
    }
   ],
   "source": [
    "audio_arr_list = []\n",
    "\n",
    "for index in tqdm(range(len(NEW_PODCAST_TEXT))):\n",
    "    speaker, text = NEW_PODCAST_TEXT[index]\n",
    "    if speaker == \"Speaker 1\":\n",
    "        print(speaker)\n",
    "        print(text)\n",
    "        audio_arr, rate = generate_speaker1_audio(text)\n",
    "    else:  # Speaker 2\n",
    "        print(speaker)\n",
    "        print(text)\n",
    "        audio_arr, rate = generate_speaker2_audio(text)\n",
    "    print(audio_arr.shape)\n",
    "    audio_arr_list.append(audio_arr)\n",
    "    \n",
    "concat_arr = np.concatenate(audio_arr_list, axis=0)\n",
    "print(concat_arr.shape)"
   ]
  },
  {
   "cell_type": "code",
   "execution_count": null,
   "id": "15c2149e-b8b7-49ee-a942-ea79a19b889b",
   "metadata": {
    "tags": []
   },
   "outputs": [],
   "source": [
    "Audio(concat_arr, rate=sampling_rate)"
   ]
  },
  {
   "cell_type": "code",
   "execution_count": null,
   "id": "0866d5c7-007f-4526-b33f-88db6ce0a5c9",
   "metadata": {
    "tags": []
   },
   "outputs": [],
   "source": [
    "audio_data = Audio(concat_arr, rate=sampling_rate).data\n",
    "with open(\"./resources/podcast.wav\", \"wb\") as f:\n",
    "    f.write(audio_data)"
   ]
  },
  {
   "cell_type": "code",
   "execution_count": null,
   "id": "dccee835-6687-47d8-9bdd-b3a5bf85ddb5",
   "metadata": {},
   "outputs": [],
   "source": [
    "# Audio(audio_arr, rate=sampling_rate)"
   ]
  }
 ],
 "metadata": {
  "kernelspec": {
   "display_name": "conda_pytorch_p310",
   "language": "python",
   "name": "conda_pytorch_p310"
  },
  "language_info": {
   "codemirror_mode": {
    "name": "ipython",
    "version": 3
   },
   "file_extension": ".py",
   "mimetype": "text/x-python",
   "name": "python",
   "nbconvert_exporter": "python",
   "pygments_lexer": "ipython3",
   "version": "3.10.14"
  }
 },
 "nbformat": 4,
 "nbformat_minor": 5
}
